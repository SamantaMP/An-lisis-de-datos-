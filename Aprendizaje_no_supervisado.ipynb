{
 "cells": [
  {
   "cell_type": "code",
   "execution_count": 261,
   "id": "7a09ebca-77dc-4f27-bf66-d32cc86d3507",
   "metadata": {},
   "outputs": [],
   "source": [
    "#Cargar Librerias que necesitamos\n",
    "import pandas as pd #estrucutra de datos \n",
    "import numpy as np #calculo metrico y analisis de datos\n",
    "import seaborn as sns #viasulizar datos estadisticos\n",
    "import matplotlib.pyplot as plt #graficas\n",
    "import matplotlib.pyplot as plot\n",
    "import plotly.express as px\n",
    "\n",
    "#Librerias de aprendizaje no supervisado\n",
    "from sklearn.cluster import AgglomerativeClustering  \n",
    "from sklearn.cluster import KMeans\n",
    "#realiza clustering jerárquico aglomerativo\n",
    "from scipy.cluster.hierarchy import dendrogram, linkage   #visualizar y calcular la estructura jerárquica de los clusters\n",
    "import matplotlib.pyplot as plt   #muestra los resultados :)\n",
    "from sklearn.metrics import silhouette_score, davies_bouldin_score, calinski_harabasz_score  #culcular métricas comunes para evaluar la calidad de los clusters, como el coeficiente de silueta, el índice de Davies-Bouldin y el índice de Calinski-Harabasz.\n"
   ]
  },
  {
   "cell_type": "markdown",
   "id": "2f52c724-48db-4d10-8316-f182e6b397a0",
   "metadata": {},
   "source": [
    "𝟭.𝙍𝙚𝙖𝙡𝙞𝙯𝙖𝙧 𝙪𝙣 𝙖𝙣𝙖́𝙡𝙞𝙨𝙞𝙨 𝙚𝙭𝙥𝙡𝙤𝙧𝙖𝙩𝙤𝙧𝙞𝙤 𝙙𝙚 𝙡𝙤𝙨 𝙙𝙖𝙩𝙤𝙨 𝙥𝙖𝙧𝙖 𝙞𝙙𝙚𝙣𝙩𝙞𝙛𝙞𝙘𝙖𝙧 \n",
    "𝙧𝙚𝙡𝙖𝙘𝙞𝙤𝙣𝙚𝙨 𝙚𝙣𝙩𝙧𝙚 𝙫𝙖𝙧𝙞𝙖𝙗𝙡𝙚𝙨, 𝙫𝙖𝙡𝙤𝙧𝙚𝙨 𝙖𝙩𝙞́𝙥𝙞𝙘𝙤𝙨, 𝙩𝙚𝙣𝙙𝙚𝙣𝙘𝙞𝙖𝙨, 𝙚𝙩𝙘. "
   ]
  },
  {
   "cell_type": "code",
   "execution_count": 262,
   "id": "bbcf76ed-5891-4867-bede-8ab64985d04b",
   "metadata": {},
   "outputs": [],
   "source": [
    "datos = pd.read_csv('C:/Users/saman/Downloads/Algoritmos de Aprendizaje no Supervisado/Clientes_CC.csv') #Se caraga la data y se guarda en datos"
   ]
  },
  {
   "cell_type": "code",
   "execution_count": 263,
   "id": "cae67a19-4903-4f78-bd21-ed0a92b43ad2",
   "metadata": {},
   "outputs": [
    {
     "data": {
      "text/html": [
       "<div>\n",
       "<style scoped>\n",
       "    .dataframe tbody tr th:only-of-type {\n",
       "        vertical-align: middle;\n",
       "    }\n",
       "\n",
       "    .dataframe tbody tr th {\n",
       "        vertical-align: top;\n",
       "    }\n",
       "\n",
       "    .dataframe thead th {\n",
       "        text-align: right;\n",
       "    }\n",
       "</style>\n",
       "<table border=\"1\" class=\"dataframe\">\n",
       "  <thead>\n",
       "    <tr style=\"text-align: right;\">\n",
       "      <th></th>\n",
       "      <th>ClienteID</th>\n",
       "      <th>Genero</th>\n",
       "      <th>Edad</th>\n",
       "      <th>Ingresos_anuales(k$)</th>\n",
       "      <th>Puntuacion_de_gasto (1-100)</th>\n",
       "    </tr>\n",
       "  </thead>\n",
       "  <tbody>\n",
       "    <tr>\n",
       "      <th>0</th>\n",
       "      <td>1</td>\n",
       "      <td>Male</td>\n",
       "      <td>19</td>\n",
       "      <td>15</td>\n",
       "      <td>39</td>\n",
       "    </tr>\n",
       "    <tr>\n",
       "      <th>1</th>\n",
       "      <td>2</td>\n",
       "      <td>Male</td>\n",
       "      <td>21</td>\n",
       "      <td>15</td>\n",
       "      <td>81</td>\n",
       "    </tr>\n",
       "    <tr>\n",
       "      <th>2</th>\n",
       "      <td>3</td>\n",
       "      <td>Female</td>\n",
       "      <td>20</td>\n",
       "      <td>16</td>\n",
       "      <td>6</td>\n",
       "    </tr>\n",
       "    <tr>\n",
       "      <th>3</th>\n",
       "      <td>4</td>\n",
       "      <td>Female</td>\n",
       "      <td>23</td>\n",
       "      <td>16</td>\n",
       "      <td>77</td>\n",
       "    </tr>\n",
       "    <tr>\n",
       "      <th>4</th>\n",
       "      <td>5</td>\n",
       "      <td>Female</td>\n",
       "      <td>31</td>\n",
       "      <td>17</td>\n",
       "      <td>40</td>\n",
       "    </tr>\n",
       "    <tr>\n",
       "      <th>5</th>\n",
       "      <td>6</td>\n",
       "      <td>Female</td>\n",
       "      <td>22</td>\n",
       "      <td>17</td>\n",
       "      <td>76</td>\n",
       "    </tr>\n",
       "    <tr>\n",
       "      <th>6</th>\n",
       "      <td>7</td>\n",
       "      <td>Female</td>\n",
       "      <td>35</td>\n",
       "      <td>18</td>\n",
       "      <td>6</td>\n",
       "    </tr>\n",
       "    <tr>\n",
       "      <th>7</th>\n",
       "      <td>8</td>\n",
       "      <td>Female</td>\n",
       "      <td>23</td>\n",
       "      <td>18</td>\n",
       "      <td>94</td>\n",
       "    </tr>\n",
       "    <tr>\n",
       "      <th>8</th>\n",
       "      <td>9</td>\n",
       "      <td>Male</td>\n",
       "      <td>64</td>\n",
       "      <td>19</td>\n",
       "      <td>3</td>\n",
       "    </tr>\n",
       "    <tr>\n",
       "      <th>9</th>\n",
       "      <td>10</td>\n",
       "      <td>Female</td>\n",
       "      <td>30</td>\n",
       "      <td>19</td>\n",
       "      <td>72</td>\n",
       "    </tr>\n",
       "    <tr>\n",
       "      <th>10</th>\n",
       "      <td>11</td>\n",
       "      <td>Male</td>\n",
       "      <td>67</td>\n",
       "      <td>19</td>\n",
       "      <td>14</td>\n",
       "    </tr>\n",
       "    <tr>\n",
       "      <th>11</th>\n",
       "      <td>12</td>\n",
       "      <td>Female</td>\n",
       "      <td>35</td>\n",
       "      <td>19</td>\n",
       "      <td>99</td>\n",
       "    </tr>\n",
       "    <tr>\n",
       "      <th>12</th>\n",
       "      <td>13</td>\n",
       "      <td>Female</td>\n",
       "      <td>58</td>\n",
       "      <td>20</td>\n",
       "      <td>15</td>\n",
       "    </tr>\n",
       "    <tr>\n",
       "      <th>13</th>\n",
       "      <td>14</td>\n",
       "      <td>Female</td>\n",
       "      <td>24</td>\n",
       "      <td>20</td>\n",
       "      <td>77</td>\n",
       "    </tr>\n",
       "    <tr>\n",
       "      <th>14</th>\n",
       "      <td>15</td>\n",
       "      <td>Male</td>\n",
       "      <td>37</td>\n",
       "      <td>20</td>\n",
       "      <td>13</td>\n",
       "    </tr>\n",
       "    <tr>\n",
       "      <th>15</th>\n",
       "      <td>16</td>\n",
       "      <td>Male</td>\n",
       "      <td>22</td>\n",
       "      <td>20</td>\n",
       "      <td>79</td>\n",
       "    </tr>\n",
       "    <tr>\n",
       "      <th>16</th>\n",
       "      <td>17</td>\n",
       "      <td>Female</td>\n",
       "      <td>35</td>\n",
       "      <td>21</td>\n",
       "      <td>35</td>\n",
       "    </tr>\n",
       "    <tr>\n",
       "      <th>17</th>\n",
       "      <td>18</td>\n",
       "      <td>Male</td>\n",
       "      <td>20</td>\n",
       "      <td>21</td>\n",
       "      <td>66</td>\n",
       "    </tr>\n",
       "    <tr>\n",
       "      <th>18</th>\n",
       "      <td>19</td>\n",
       "      <td>Male</td>\n",
       "      <td>52</td>\n",
       "      <td>23</td>\n",
       "      <td>29</td>\n",
       "    </tr>\n",
       "    <tr>\n",
       "      <th>19</th>\n",
       "      <td>20</td>\n",
       "      <td>Female</td>\n",
       "      <td>35</td>\n",
       "      <td>23</td>\n",
       "      <td>98</td>\n",
       "    </tr>\n",
       "    <tr>\n",
       "      <th>20</th>\n",
       "      <td>21</td>\n",
       "      <td>Male</td>\n",
       "      <td>35</td>\n",
       "      <td>24</td>\n",
       "      <td>35</td>\n",
       "    </tr>\n",
       "    <tr>\n",
       "      <th>21</th>\n",
       "      <td>22</td>\n",
       "      <td>Male</td>\n",
       "      <td>25</td>\n",
       "      <td>24</td>\n",
       "      <td>73</td>\n",
       "    </tr>\n",
       "    <tr>\n",
       "      <th>22</th>\n",
       "      <td>23</td>\n",
       "      <td>Female</td>\n",
       "      <td>46</td>\n",
       "      <td>25</td>\n",
       "      <td>5</td>\n",
       "    </tr>\n",
       "    <tr>\n",
       "      <th>23</th>\n",
       "      <td>24</td>\n",
       "      <td>Male</td>\n",
       "      <td>31</td>\n",
       "      <td>25</td>\n",
       "      <td>73</td>\n",
       "    </tr>\n",
       "    <tr>\n",
       "      <th>24</th>\n",
       "      <td>25</td>\n",
       "      <td>Female</td>\n",
       "      <td>54</td>\n",
       "      <td>28</td>\n",
       "      <td>14</td>\n",
       "    </tr>\n",
       "    <tr>\n",
       "      <th>25</th>\n",
       "      <td>26</td>\n",
       "      <td>Male</td>\n",
       "      <td>29</td>\n",
       "      <td>28</td>\n",
       "      <td>82</td>\n",
       "    </tr>\n",
       "    <tr>\n",
       "      <th>26</th>\n",
       "      <td>27</td>\n",
       "      <td>Female</td>\n",
       "      <td>45</td>\n",
       "      <td>28</td>\n",
       "      <td>32</td>\n",
       "    </tr>\n",
       "    <tr>\n",
       "      <th>27</th>\n",
       "      <td>28</td>\n",
       "      <td>Male</td>\n",
       "      <td>35</td>\n",
       "      <td>28</td>\n",
       "      <td>61</td>\n",
       "    </tr>\n",
       "    <tr>\n",
       "      <th>28</th>\n",
       "      <td>29</td>\n",
       "      <td>Female</td>\n",
       "      <td>40</td>\n",
       "      <td>29</td>\n",
       "      <td>31</td>\n",
       "    </tr>\n",
       "    <tr>\n",
       "      <th>29</th>\n",
       "      <td>30</td>\n",
       "      <td>Female</td>\n",
       "      <td>23</td>\n",
       "      <td>29</td>\n",
       "      <td>87</td>\n",
       "    </tr>\n",
       "  </tbody>\n",
       "</table>\n",
       "</div>"
      ],
      "text/plain": [
       "    ClienteID  Genero  Edad  Ingresos_anuales(k$)  Puntuacion_de_gasto (1-100)\n",
       "0           1    Male    19                    15                           39\n",
       "1           2    Male    21                    15                           81\n",
       "2           3  Female    20                    16                            6\n",
       "3           4  Female    23                    16                           77\n",
       "4           5  Female    31                    17                           40\n",
       "5           6  Female    22                    17                           76\n",
       "6           7  Female    35                    18                            6\n",
       "7           8  Female    23                    18                           94\n",
       "8           9    Male    64                    19                            3\n",
       "9          10  Female    30                    19                           72\n",
       "10         11    Male    67                    19                           14\n",
       "11         12  Female    35                    19                           99\n",
       "12         13  Female    58                    20                           15\n",
       "13         14  Female    24                    20                           77\n",
       "14         15    Male    37                    20                           13\n",
       "15         16    Male    22                    20                           79\n",
       "16         17  Female    35                    21                           35\n",
       "17         18    Male    20                    21                           66\n",
       "18         19    Male    52                    23                           29\n",
       "19         20  Female    35                    23                           98\n",
       "20         21    Male    35                    24                           35\n",
       "21         22    Male    25                    24                           73\n",
       "22         23  Female    46                    25                            5\n",
       "23         24    Male    31                    25                           73\n",
       "24         25  Female    54                    28                           14\n",
       "25         26    Male    29                    28                           82\n",
       "26         27  Female    45                    28                           32\n",
       "27         28    Male    35                    28                           61\n",
       "28         29  Female    40                    29                           31\n",
       "29         30  Female    23                    29                           87"
      ]
     },
     "execution_count": 263,
     "metadata": {},
     "output_type": "execute_result"
    }
   ],
   "source": [
    "datos.head(30) #visualizacion y descripcion  de los datos"
   ]
  },
  {
   "cell_type": "code",
   "execution_count": 264,
   "id": "1edab5db-3074-4acf-80b0-3a5bddd06bd8",
   "metadata": {},
   "outputs": [
    {
     "data": {
      "image/png": "[encoded data removed]",
      "text/plain": [
       "<Figure size 600x300 with 1 Axes>"
      ]
     },
     "metadata": {},
     "output_type": "display_data"
    }
   ],
   "source": [
    "plt.figure(figsize=(6, 3))\n",
    "sns.boxplot(x=datos['Edad'])\n",
    "plt.title('Identificación de datos faltantes y atípicos en la variable edad', fontsize=10)\n",
    "plt.show()"
   ]
  },
  {
   "cell_type": "code",
   "execution_count": 265,
   "id": "44320d38-6161-4267-8faa-a568beae4a98",
   "metadata": {},
   "outputs": [
    {
     "data": {
      "image/png": "[encoded data removed]",
      "text/plain": [
       "<Figure size 600x300 with 1 Axes>"
      ]
     },
     "metadata": {},
     "output_type": "display_data"
    }
   ],
   "source": [
    "plt.figure(figsize=(6, 3))\n",
    "sns.boxplot(x=datos['Ingresos_anuales(k$)'])\n",
    "plt.title('Identificación de datos faltantes y atípicos en la variable Ingresos anuales', fontsize=10)\n",
    "plt.show()"
   ]
  },
  {
   "cell_type": "code",
   "execution_count": 266,
   "id": "f3236fe6-a800-44d1-a33c-0048646f0359",
   "metadata": {},
   "outputs": [
    {
     "data": {
      "image/png": "[encoded data removed]",
      "text/plain": [
       "<Figure size 600x300 with 1 Axes>"
      ]
     },
     "metadata": {},
     "output_type": "display_data"
    }
   ],
   "source": [
    "plt.figure(figsize=(6, 3))\n",
    "sns.boxplot(x=datos['Puntuacion_de_gasto (1-100)'])\n",
    "plt.title('Identificación de datos faltantes y atípicos en la variable Puntuacion de gasto', fontsize=10)\n",
    "plt.show()"
   ]
  },
  {
   "cell_type": "code",
   "execution_count": 267,
   "id": "057151a5-ce0c-4d34-826e-9eafa53d847a",
   "metadata": {},
   "outputs": [
    {
     "data": {
      "text/html": [
       "<div>\n",
       "<style scoped>\n",
       "    .dataframe tbody tr th:only-of-type {\n",
       "        vertical-align: middle;\n",
       "    }\n",
       "\n",
       "    .dataframe tbody tr th {\n",
       "        vertical-align: top;\n",
       "    }\n",
       "\n",
       "    .dataframe thead th {\n",
       "        text-align: right;\n",
       "    }\n",
       "</style>\n",
       "<table border=\"1\" class=\"dataframe\">\n",
       "  <thead>\n",
       "    <tr style=\"text-align: right;\">\n",
       "      <th></th>\n",
       "      <th>ClienteID</th>\n",
       "      <th>Edad</th>\n",
       "      <th>Ingresos_anuales(k$)</th>\n",
       "      <th>Puntuacion_de_gasto (1-100)</th>\n",
       "    </tr>\n",
       "  </thead>\n",
       "  <tbody>\n",
       "    <tr>\n",
       "      <th>count</th>\n",
       "      <td>200.000000</td>\n",
       "      <td>200.000000</td>\n",
       "      <td>200.000000</td>\n",
       "      <td>200.000000</td>\n",
       "    </tr>\n",
       "    <tr>\n",
       "      <th>mean</th>\n",
       "      <td>100.500000</td>\n",
       "      <td>38.850000</td>\n",
       "      <td>60.560000</td>\n",
       "      <td>50.200000</td>\n",
       "    </tr>\n",
       "    <tr>\n",
       "      <th>std</th>\n",
       "      <td>57.879185</td>\n",
       "      <td>13.969007</td>\n",
       "      <td>26.264721</td>\n",
       "      <td>25.823522</td>\n",
       "    </tr>\n",
       "    <tr>\n",
       "      <th>min</th>\n",
       "      <td>1.000000</td>\n",
       "      <td>18.000000</td>\n",
       "      <td>15.000000</td>\n",
       "      <td>1.000000</td>\n",
       "    </tr>\n",
       "    <tr>\n",
       "      <th>25%</th>\n",
       "      <td>50.750000</td>\n",
       "      <td>28.750000</td>\n",
       "      <td>41.500000</td>\n",
       "      <td>34.750000</td>\n",
       "    </tr>\n",
       "    <tr>\n",
       "      <th>50%</th>\n",
       "      <td>100.500000</td>\n",
       "      <td>36.000000</td>\n",
       "      <td>61.500000</td>\n",
       "      <td>50.000000</td>\n",
       "    </tr>\n",
       "    <tr>\n",
       "      <th>75%</th>\n",
       "      <td>150.250000</td>\n",
       "      <td>49.000000</td>\n",
       "      <td>78.000000</td>\n",
       "      <td>73.000000</td>\n",
       "    </tr>\n",
       "    <tr>\n",
       "      <th>max</th>\n",
       "      <td>200.000000</td>\n",
       "      <td>70.000000</td>\n",
       "      <td>137.000000</td>\n",
       "      <td>99.000000</td>\n",
       "    </tr>\n",
       "  </tbody>\n",
       "</table>\n",
       "</div>"
      ],
      "text/plain": [
       "        ClienteID        Edad  Ingresos_anuales(k$)  \\\n",
       "count  200.000000  200.000000            200.000000   \n",
       "mean   100.500000   38.850000             60.560000   \n",
       "std     57.879185   13.969007             26.264721   \n",
       "min      1.000000   18.000000             15.000000   \n",
       "25%     50.750000   28.750000             41.500000   \n",
       "50%    100.500000   36.000000             61.500000   \n",
       "75%    150.250000   49.000000             78.000000   \n",
       "max    200.000000   70.000000            137.000000   \n",
       "\n",
       "       Puntuacion_de_gasto (1-100)  \n",
       "count                   200.000000  \n",
       "mean                     50.200000  \n",
       "std                      25.823522  \n",
       "min                       1.000000  \n",
       "25%                      34.750000  \n",
       "50%                      50.000000  \n",
       "75%                      73.000000  \n",
       "max                      99.000000  "
      ]
     },
     "execution_count": 267,
     "metadata": {},
     "output_type": "execute_result"
    }
   ],
   "source": [
    "datos.describe() #trae diversas medidas estadisticas "
   ]
  },
  {
   "cell_type": "code",
   "execution_count": 268,
   "id": "ac11a7fd-5a5e-449e-ad60-975b4acc6d57",
   "metadata": {},
   "outputs": [
    {
     "data": {
      "image/png": "[encoded data removed]",
      "text/plain": [
       "<Figure size 640x480 with 1 Axes>"
      ]
     },
     "metadata": {},
     "output_type": "display_data"
    }
   ],
   "source": [
    "X = datos['Edad']  #accede a la variable datos del dataframe\n",
    "Y = datos['Ingresos_anuales(k$)'] #accede a la variable Ingresos Anuales del dataframe\n",
    "plot.plot(X, Y, \"b*\") #Crea grafica de dispersion e indica que usa punto azules para marcar los datos\n",
    "plot.xlabel(\"Edad(X)\") #establece la etiqueta del eje xxx jeje\n",
    "plot.ylabel(\"Ingresos anuales(y)\") #establece la etiqueta del eje y , en este caso es ingresos anuales\n",
    "plot.grid() #hace la cuadricula \n",
    "plot.show() #muestra nuestras super configuraciones ;)"
   ]
  },
  {
   "cell_type": "code",
   "execution_count": 269,
   "id": "d6c38358-b44b-422d-a66c-fd3ed2b0ae69",
   "metadata": {},
   "outputs": [
    {
     "data": {
      "image/png": "[encoded data removed]",
      "text/plain": [
       "<Figure size 640x480 with 1 Axes>"
      ]
     },
     "metadata": {},
     "output_type": "display_data"
    }
   ],
   "source": [
    "X = datos['Edad']  \n",
    "Y = datos['Genero'] \n",
    "plot.plot(X, Y, \"b*\") \n",
    "plot.xlabel(\"Edad(X)\") \n",
    "plot.ylabel(\"Genero(y)\") \n",
    "plot.grid() \n",
    "plot.show() "
   ]
  },
  {
   "cell_type": "markdown",
   "id": "76da5074-5f08-4737-9715-6b92924908e0",
   "metadata": {},
   "source": [
    "𝟮. 𝙋𝙧𝙚𝙥𝙧𝙤𝙘𝙚𝙨𝙖𝙧 𝙡𝙤𝙨 𝙙𝙖𝙩𝙤𝙨 𝙡𝙞𝙢𝙥𝙞𝙖́𝙣𝙙𝙤𝙡𝙤𝙨, 𝙩𝙧𝙖𝙩𝙖𝙣𝙙𝙤 𝙫𝙖𝙡𝙤𝙧𝙚𝙨 𝙛𝙖𝙡𝙩𝙖𝙣𝙩𝙚𝙨 𝙮 𝙩𝙧𝙖𝙣𝙨𝙛𝙤𝙧𝙢𝙖́𝙣𝙙𝙤𝙡𝙤𝙨 𝙨𝙚𝙜𝙪́𝙣 𝙨𝙚𝙖 𝙣𝙚𝙘𝙚𝙨𝙖𝙧𝙞𝙤. "
   ]
  },
  {
   "cell_type": "code",
   "execution_count": 270,
   "id": "fd019d2c-af28-4129-b118-265e6fc0cc5e",
   "metadata": {},
   "outputs": [
    {
     "name": "stdout",
     "output_type": "stream",
     "text": [
      "Cantidad de datos faltantes en la categoría ClienteID: 0\n",
      "Cantidad de datos faltantes en la categoría Genero: 0\n",
      "Cantidad de datos faltantes en la categoría Edad: 0\n",
      "Cantidad de datos faltantes en la categoría Ingresos_anuales(k$): 0\n",
      "Cantidad de datos faltantes en la categoría Puntuacion_de_gasto (1-100): 0\n"
     ]
    }
   ],
   "source": [
    "\n",
    "print(\"Cantidad de datos faltantes en la categoría ClienteID:\", datos['ClienteID'].isin([0]).sum())\n",
    "print(\"Cantidad de datos faltantes en la categoría Genero:\", datos['Genero'].isin([0]).sum())\n",
    "print(\"Cantidad de datos faltantes en la categoría Edad:\", datos['Edad'].isin([0]).sum())\n",
    "print(\"Cantidad de datos faltantes en la categoría Ingresos_anuales(k$):\", datos['Ingresos_anuales(k$)'].isin([0]).sum())\n",
    "print(\"Cantidad de datos faltantes en la categoría Puntuacion_de_gasto (1-100):\", datos['Puntuacion_de_gasto (1-100)'].isin([0]).sum())\n",
    "\n"
   ]
  },
  {
   "cell_type": "code",
   "execution_count": 271,
   "id": "78674a15-601e-4690-93f0-523fee66937b",
   "metadata": {},
   "outputs": [
    {
     "data": {
      "text/plain": [
       "ClienteID                      0\n",
       "Genero                         0\n",
       "Edad                           0\n",
       "Ingresos_anuales(k$)           0\n",
       "Puntuacion_de_gasto (1-100)    0\n",
       "dtype: int64"
      ]
     },
     "execution_count": 271,
     "metadata": {},
     "output_type": "execute_result"
    }
   ],
   "source": [
    "datos.isna().sum()  #mujer prevenida vale x2 confirmacion de datos nulos, de forma simple "
   ]
  },
  {
   "cell_type": "code",
   "execution_count": 272,
   "id": "b567a588-83e4-44cc-bdcf-671d9b9aa377",
   "metadata": {},
   "outputs": [
    {
     "name": "stdout",
     "output_type": "stream",
     "text": [
      "<class 'pandas.core.frame.DataFrame'>\n",
      "RangeIndex: 200 entries, 0 to 199\n",
      "Data columns (total 5 columns):\n",
      " #   Column                       Non-Null Count  Dtype \n",
      "---  ------                       --------------  ----- \n",
      " 0   ClienteID                    200 non-null    int64 \n",
      " 1   Genero                       200 non-null    object\n",
      " 2   Edad                         200 non-null    int64 \n",
      " 3   Ingresos_anuales(k$)         200 non-null    int64 \n",
      " 4   Puntuacion_de_gasto (1-100)  200 non-null    int64 \n",
      "dtypes: int64(4), object(1)\n",
      "memory usage: 7.9+ KB\n"
     ]
    }
   ],
   "source": [
    "datos.info() #Revision de tipo de datos\n"
   ]
  },
  {
   "cell_type": "code",
   "execution_count": 273,
   "id": "ce0dd76c-bc46-4c2b-91cb-a6cfd001a892",
   "metadata": {},
   "outputs": [
    {
     "name": "stdout",
     "output_type": "stream",
     "text": [
      "<class 'pandas.core.series.Series'>\n",
      "RangeIndex: 200 entries, 0 to 199\n",
      "Series name: Genero\n",
      "Non-Null Count  Dtype \n",
      "--------------  ----- \n",
      "200 non-null    object\n",
      "dtypes: object(1)\n",
      "memory usage: 1.7+ KB\n",
      "None\n"
     ]
    }
   ],
   "source": [
    "print(datos['Genero'].info()) #Fprma de hacerlo de manera individual\n"
   ]
  },
  {
   "cell_type": "markdown",
   "id": "ba0009d3-bbc1-4beb-a2d2-fd3f35e1406a",
   "metadata": {},
   "source": [
    "𝟯. 𝙎𝙚𝙡𝙚𝙘𝙘𝙞𝙤𝙣𝙖𝙧 𝙡𝙖𝙨 𝙘𝙖𝙧𝙖𝙘𝙩𝙚𝙧𝙞́𝙨𝙩𝙞𝙘𝙖𝙨 𝙢𝙖́𝙨 𝙧𝙚𝙡𝙚𝙫𝙖𝙣𝙩𝙚𝙨 𝙥𝙖𝙧𝙖 𝙚𝙣𝙩𝙧𝙚𝙣𝙖𝙧 𝙚𝙡 \n",
    "𝙢𝙤𝙙𝙚𝙡𝙤 𝙪𝙩𝙞𝙡𝙞𝙯𝙖𝙣𝙙𝙤 𝙨𝙚𝙡𝙚𝙘𝙘𝙞𝙤́𝙣 𝙙𝙚 𝙘𝙖𝙧𝙖𝙘𝙩𝙚𝙧𝙞́𝙨𝙩𝙞𝙘𝙖�\n",
    "•\tIngresos Anuales \r\n",
    "•\tpuntuación de gasto  \r\n",
    "En relación con la ed, esto para evaluar la relacion de credito, con respecto al salario y la edad de los compradores d\r\n",
    "�"
   ]
  },
  {
   "cell_type": "code",
   "execution_count": 274,
   "id": "10f190e2-c273-420f-8a22-fe837026994d",
   "metadata": {
    "scrolled": true
   },
   "outputs": [
    {
     "data": {
      "text/html": [
       "<div>\n",
       "<style scoped>\n",
       "    .dataframe tbody tr th:only-of-type {\n",
       "        vertical-align: middle;\n",
       "    }\n",
       "\n",
       "    .dataframe tbody tr th {\n",
       "        vertical-align: top;\n",
       "    }\n",
       "\n",
       "    .dataframe thead th {\n",
       "        text-align: right;\n",
       "    }\n",
       "</style>\n",
       "<table border=\"1\" class=\"dataframe\">\n",
       "  <thead>\n",
       "    <tr style=\"text-align: right;\">\n",
       "      <th></th>\n",
       "      <th>Edad</th>\n",
       "      <th>Ingresos_anuales(k$)</th>\n",
       "      <th>Puntuacion_de_gasto (1-100)</th>\n",
       "    </tr>\n",
       "  </thead>\n",
       "  <tbody>\n",
       "    <tr>\n",
       "      <th>0</th>\n",
       "      <td>19</td>\n",
       "      <td>15</td>\n",
       "      <td>39</td>\n",
       "    </tr>\n",
       "    <tr>\n",
       "      <th>1</th>\n",
       "      <td>21</td>\n",
       "      <td>15</td>\n",
       "      <td>81</td>\n",
       "    </tr>\n",
       "    <tr>\n",
       "      <th>2</th>\n",
       "      <td>20</td>\n",
       "      <td>16</td>\n",
       "      <td>6</td>\n",
       "    </tr>\n",
       "    <tr>\n",
       "      <th>3</th>\n",
       "      <td>23</td>\n",
       "      <td>16</td>\n",
       "      <td>77</td>\n",
       "    </tr>\n",
       "    <tr>\n",
       "      <th>4</th>\n",
       "      <td>31</td>\n",
       "      <td>17</td>\n",
       "      <td>40</td>\n",
       "    </tr>\n",
       "  </tbody>\n",
       "</table>\n",
       "</div>"
      ],
      "text/plain": [
       "   Edad  Ingresos_anuales(k$)  Puntuacion_de_gasto (1-100)\n",
       "0    19                    15                           39\n",
       "1    21                    15                           81\n",
       "2    20                    16                            6\n",
       "3    23                    16                           77\n",
       "4    31                    17                           40"
      ]
     },
     "execution_count": 274,
     "metadata": {},
     "output_type": "execute_result"
    }
   ],
   "source": [
    "#Filtrar las columnas de datoos \n",
    "datos = datos[[\"Edad\", \"Ingresos_anuales(k$)\", \"Puntuacion_de_gasto (1-100)\"]]\n",
    "datos.head(5) #Revision de las variables"
   ]
  },
  {
   "cell_type": "code",
   "execution_count": 275,
   "id": "2882dde6-1725-4bb5-9ea9-2641441cf60d",
   "metadata": {},
   "outputs": [
    {
     "data": {
      "image/png": "[encoded data removed]",
      "text/plain": [
       "<Figure size 640x480 with 1 Axes>"
      ]
     },
     "metadata": {},
     "output_type": "display_data"
    }
   ],
   "source": [
    "#Grafica antes del agrupamiento \n",
    "\n",
    "plt.scatter(datos['Ingresos_anuales(k$)'], datos['Puntuacion_de_gasto (1-100)']) #cada punto representara un cliente, donde el eje x es ingresos anuales y el eje y y putnacion de gasto \n",
    "#Python es sensible con los espacios, tenerlos en cuenta en las variables ejeje\n",
    "plt.xlabel('Ingresos_anuales(k$)') #etiqueta de nuestro eje x\n",
    "plt.ylabel('Puntuacion_de_gasto(1-100)') #etiqueta de nuestro eje y\n",
    "plt.title('Grupos de clientes en relacion de gasto a sus ingresos')  #titutlo de la grafica\n",
    "plt.show() #que nos muestre todo jeje"
   ]
  },
  {
   "cell_type": "markdown",
   "id": "908922ff-c34b-4bc8-9225-5fedf75bc57d",
   "metadata": {},
   "source": [
    "𝟰. 𝙀𝙣𝙩𝙧𝙚𝙣𝙖𝙧 𝙚𝙡 𝙢𝙤𝙙𝙚𝙡𝙤 𝙘𝙤𝙣𝙛𝙞𝙜𝙪𝙧𝙖𝙣𝙙𝙤 𝙡𝙤𝙨 𝙙𝙞𝙛𝙚𝙧𝙚𝙣𝙩𝙚𝙨 \n",
    "𝙝𝙞𝙥𝙚𝙧𝙥𝙖𝙧𝙖́𝙢𝙚𝙩𝙧𝙤𝙨."
   ]
  },
  {
   "cell_type": "code",
   "execution_count": 276,
   "id": "88aa9660-7ecf-431e-86dc-8202d953e81c",
   "metadata": {},
   "outputs": [
    {
     "name": "stdout",
     "output_type": "stream",
     "text": [
      "[KMeans(n_clusters=1), KMeans(n_clusters=2), KMeans(n_clusters=3), KMeans(n_clusters=4), KMeans(n_clusters=5), KMeans(n_clusters=6), KMeans(n_clusters=7)]\n"
     ]
    },
    {
     "name": "stderr",
     "output_type": "stream",
     "text": [
      "C:\\Users\\saman\\anaconda3\\Lib\\site-packages\\sklearn\\cluster\\_kmeans.py:870: FutureWarning: The default value of `n_init` will change from 10 to 'auto' in 1.4. Set the value of `n_init` explicitly to suppress the warning\n",
      "  warnings.warn(\n",
      "C:\\Users\\saman\\anaconda3\\Lib\\site-packages\\sklearn\\cluster\\_kmeans.py:1382: UserWarning: KMeans is known to have a memory leak on Windows with MKL, when there are less chunks than available threads. You can avoid it by setting the environment variable OMP_NUM_THREADS=1.\n",
      "  warnings.warn(\n",
      "C:\\Users\\saman\\anaconda3\\Lib\\site-packages\\sklearn\\cluster\\_kmeans.py:870: FutureWarning: The default value of `n_init` will change from 10 to 'auto' in 1.4. Set the value of `n_init` explicitly to suppress the warning\n",
      "  warnings.warn(\n",
      "C:\\Users\\saman\\anaconda3\\Lib\\site-packages\\sklearn\\cluster\\_kmeans.py:1382: UserWarning: KMeans is known to have a memory leak on Windows with MKL, when there are less chunks than available threads. You can avoid it by setting the environment variable OMP_NUM_THREADS=1.\n",
      "  warnings.warn(\n",
      "C:\\Users\\saman\\anaconda3\\Lib\\site-packages\\sklearn\\cluster\\_kmeans.py:870: FutureWarning: The default value of `n_init` will change from 10 to 'auto' in 1.4. Set the value of `n_init` explicitly to suppress the warning\n",
      "  warnings.warn(\n",
      "C:\\Users\\saman\\anaconda3\\Lib\\site-packages\\sklearn\\cluster\\_kmeans.py:1382: UserWarning: KMeans is known to have a memory leak on Windows with MKL, when there are less chunks than available threads. You can avoid it by setting the environment variable OMP_NUM_THREADS=1.\n",
      "  warnings.warn(\n",
      "C:\\Users\\saman\\anaconda3\\Lib\\site-packages\\sklearn\\cluster\\_kmeans.py:870: FutureWarning: The default value of `n_init` will change from 10 to 'auto' in 1.4. Set the value of `n_init` explicitly to suppress the warning\n",
      "  warnings.warn(\n",
      "C:\\Users\\saman\\anaconda3\\Lib\\site-packages\\sklearn\\cluster\\_kmeans.py:1382: UserWarning: KMeans is known to have a memory leak on Windows with MKL, when there are less chunks than available threads. You can avoid it by setting the environment variable OMP_NUM_THREADS=1.\n",
      "  warnings.warn(\n",
      "C:\\Users\\saman\\anaconda3\\Lib\\site-packages\\sklearn\\cluster\\_kmeans.py:870: FutureWarning: The default value of `n_init` will change from 10 to 'auto' in 1.4. Set the value of `n_init` explicitly to suppress the warning\n",
      "  warnings.warn(\n",
      "C:\\Users\\saman\\anaconda3\\Lib\\site-packages\\sklearn\\cluster\\_kmeans.py:1382: UserWarning: KMeans is known to have a memory leak on Windows with MKL, when there are less chunks than available threads. You can avoid it by setting the environment variable OMP_NUM_THREADS=1.\n",
      "  warnings.warn(\n",
      "C:\\Users\\saman\\anaconda3\\Lib\\site-packages\\sklearn\\cluster\\_kmeans.py:870: FutureWarning: The default value of `n_init` will change from 10 to 'auto' in 1.4. Set the value of `n_init` explicitly to suppress the warning\n",
      "  warnings.warn(\n",
      "C:\\Users\\saman\\anaconda3\\Lib\\site-packages\\sklearn\\cluster\\_kmeans.py:1382: UserWarning: KMeans is known to have a memory leak on Windows with MKL, when there are less chunks than available threads. You can avoid it by setting the environment variable OMP_NUM_THREADS=1.\n",
      "  warnings.warn(\n",
      "C:\\Users\\saman\\anaconda3\\Lib\\site-packages\\sklearn\\cluster\\_kmeans.py:870: FutureWarning: The default value of `n_init` will change from 10 to 'auto' in 1.4. Set the value of `n_init` explicitly to suppress the warning\n",
      "  warnings.warn(\n",
      "C:\\Users\\saman\\anaconda3\\Lib\\site-packages\\sklearn\\cluster\\_kmeans.py:1382: UserWarning: KMeans is known to have a memory leak on Windows with MKL, when there are less chunks than available threads. You can avoid it by setting the environment variable OMP_NUM_THREADS=1.\n",
      "  warnings.warn(\n"
     ]
    },
    {
     "name": "stdout",
     "output_type": "stream",
     "text": [
      "[-308812.77999999997, -212840.16982097187, -143342.75157170597, -104366.15145556198, -75378.76464074483, -58300.44332159069, -51118.9499316473]\n"
     ]
    },
    {
     "data": {
      "image/png": "[encoded data removed]",
      "text/plain": [
       "<Figure size 640x480 with 1 Axes>"
      ]
     },
     "metadata": {},
     "output_type": "display_data"
    }
   ],
   "source": [
    "#grafica para identificar el valor de k (k=nunmero de agrupamiento de los datos)\n",
    "#utiliza buena memoria jeje abrir cmd y poner set OMP_NUM_THREADS=1\n",
    "#esta grafica nos ayuda a saber en cuanto dividir el algoritmo, sabemos que se puede dividir ya cuando la linea empieza a ponerse derecha, en este caso segun mi super analisis es 5 \n",
    "#ademas tambien se tiene en cuenta las sepraciones entre punto y punto, asi que si es 5 ;)\n",
    "Nc = range(1, 8) #crea el rango y lo gurada en Nc\n",
    "kmeans = [KMeans(n_clusters=i) for i in Nc] #crea la lista la cual se llama kmeans con difrentes cantidades de clusters En la primera iteración del bucle for, se crea un objeto KMeans con 1 cluster, en la segunda repeticion se crea otro objeto con 2 clusters, y así sucesivamente hasta 7 clusters.\n",
    "print(kmeans) #imprime kmeans\n",
    "score = [kmeans[i].fit(datos).score(datos) for i in range(len(kmeans))] \n",
    "print(score)\n",
    "plt.plot(Nc,score,marker='o') #Se utiliza matplotlib para crear un gráfico de línea. En el eje x se colocan los números de clusters (Nc), y en el eje y se colocan los puntajes de ajuste (score). Se utiliza un marcador circular ('o') en cada punto del gráfico.\n",
    "plt.xlabel('Numero de clusters')\n",
    "plt.ylabel('Score')\n",
    "plt.title('Garfica de codo')\n",
    "plt.show()"
   ]
  },
  {
   "cell_type": "code",
   "execution_count": 277,
   "id": "fc2bcadd-5260-4d23-b3d9-fc5e6942c38d",
   "metadata": {},
   "outputs": [
    {
     "name": "stderr",
     "output_type": "stream",
     "text": [
      "C:\\Users\\saman\\anaconda3\\Lib\\site-packages\\sklearn\\cluster\\_kmeans.py:870: FutureWarning: The default value of `n_init` will change from 10 to 'auto' in 1.4. Set the value of `n_init` explicitly to suppress the warning\n",
      "  warnings.warn(\n",
      "C:\\Users\\saman\\anaconda3\\Lib\\site-packages\\sklearn\\cluster\\_kmeans.py:1382: UserWarning: KMeans is known to have a memory leak on Windows with MKL, when there are less chunks than available threads. You can avoid it by setting the environment variable OMP_NUM_THREADS=1.\n",
      "  warnings.warn(\n"
     ]
    },
    {
     "data": {
      "text/html": [
       "<style>#sk-container-id-5 {color: black;background-color: white;}#sk-container-id-5 pre{padding: 0;}#sk-container-id-5 div.sk-toggleable {background-color: white;}#sk-container-id-5 label.sk-toggleable__label {cursor: pointer;display: block;width: 100%;margin-bottom: 0;padding: 0.3em;box-sizing: border-box;text-align: center;}#sk-container-id-5 label.sk-toggleable__label-arrow:before {content: \"▸\";float: left;margin-right: 0.25em;color: #696969;}#sk-container-id-5 label.sk-toggleable__label-arrow:hover:before {color: black;}#sk-container-id-5 div.sk-estimator:hover label.sk-toggleable__label-arrow:before {color: black;}#sk-container-id-5 div.sk-toggleable__content {max-height: 0;max-width: 0;overflow: hidden;text-align: left;background-color: #f0f8ff;}#sk-container-id-5 div.sk-toggleable__content pre {margin: 0.2em;color: black;border-radius: 0.25em;background-color: #f0f8ff;}#sk-container-id-5 input.sk-toggleable__control:checked~div.sk-toggleable__content {max-height: 200px;max-width: 100%;overflow: auto;}#sk-container-id-5 input.sk-toggleable__control:checked~label.sk-toggleable__label-arrow:before {content: \"▾\";}#sk-container-id-5 div.sk-estimator input.sk-toggleable__control:checked~label.sk-toggleable__label {background-color: #d4ebff;}#sk-container-id-5 div.sk-label input.sk-toggleable__control:checked~label.sk-toggleable__label {background-color: #d4ebff;}#sk-container-id-5 input.sk-hidden--visually {border: 0;clip: rect(1px 1px 1px 1px);clip: rect(1px, 1px, 1px, 1px);height: 1px;margin: -1px;overflow: hidden;padding: 0;position: absolute;width: 1px;}#sk-container-id-5 div.sk-estimator {font-family: monospace;background-color: #f0f8ff;border: 1px dotted black;border-radius: 0.25em;box-sizing: border-box;margin-bottom: 0.5em;}#sk-container-id-5 div.sk-estimator:hover {background-color: #d4ebff;}#sk-container-id-5 div.sk-parallel-item::after {content: \"\";width: 100%;border-bottom: 1px solid gray;flex-grow: 1;}#sk-container-id-5 div.sk-label:hover label.sk-toggleable__label {background-color: #d4ebff;}#sk-container-id-5 div.sk-serial::before {content: \"\";position: absolute;border-left: 1px solid gray;box-sizing: border-box;top: 0;bottom: 0;left: 50%;z-index: 0;}#sk-container-id-5 div.sk-serial {display: flex;flex-direction: column;align-items: center;background-color: white;padding-right: 0.2em;padding-left: 0.2em;position: relative;}#sk-container-id-5 div.sk-item {position: relative;z-index: 1;}#sk-container-id-5 div.sk-parallel {display: flex;align-items: stretch;justify-content: center;background-color: white;position: relative;}#sk-container-id-5 div.sk-item::before, #sk-container-id-5 div.sk-parallel-item::before {content: \"\";position: absolute;border-left: 1px solid gray;box-sizing: border-box;top: 0;bottom: 0;left: 50%;z-index: -1;}#sk-container-id-5 div.sk-parallel-item {display: flex;flex-direction: column;z-index: 1;position: relative;background-color: white;}#sk-container-id-5 div.sk-parallel-item:first-child::after {align-self: flex-end;width: 50%;}#sk-container-id-5 div.sk-parallel-item:last-child::after {align-self: flex-start;width: 50%;}#sk-container-id-5 div.sk-parallel-item:only-child::after {width: 0;}#sk-container-id-5 div.sk-dashed-wrapped {border: 1px dashed gray;margin: 0 0.4em 0.5em 0.4em;box-sizing: border-box;padding-bottom: 0.4em;background-color: white;}#sk-container-id-5 div.sk-label label {font-family: monospace;font-weight: bold;display: inline-block;line-height: 1.2em;}#sk-container-id-5 div.sk-label-container {text-align: center;}#sk-container-id-5 div.sk-container {/* jupyter's `normalize.less` sets `[hidden] { display: none; }` but bootstrap.min.css set `[hidden] { display: none !important; }` so we also need the `!important` here to be able to override the default hidden behavior on the sphinx rendered scikit-learn.org. See: https://github.com/scikit-learn/scikit-learn/issues/21755 */display: inline-block !important;position: relative;}#sk-container-id-5 div.sk-text-repr-fallback {display: none;}</style><div id=\"sk-container-id-5\" class=\"sk-top-container\"><div class=\"sk-text-repr-fallback\"><pre>KMeans(n_clusters=5, random_state=0)</pre><b>In a Jupyter environment, please rerun this cell to show the HTML representation or trust the notebook. <br />On GitHub, the HTML representation is unable to render, please try loading this page with nbviewer.org.</b></div><div class=\"sk-container\" hidden><div class=\"sk-item\"><div class=\"sk-estimator sk-toggleable\"><input class=\"sk-toggleable__control sk-hidden--visually\" id=\"sk-estimator-id-5\" type=\"checkbox\" checked><label for=\"sk-estimator-id-5\" class=\"sk-toggleable__label sk-toggleable__label-arrow\">KMeans</label><div class=\"sk-toggleable__content\"><pre>KMeans(n_clusters=5, random_state=0)</pre></div></div></div></div></div>"
      ],
      "text/plain": [
       "KMeans(n_clusters=5, random_state=0)"
      ]
     },
     "execution_count": 277,
     "metadata": {},
     "output_type": "execute_result"
    }
   ],
   "source": [
    "#agrupamiento de 5 en K means \n",
    "\n",
    "modelo = KMeans(n_clusters=5, random_state=0) #creo la variable modelo con 5 clusters\n",
    "modelo.fit(datos) #que entrene jeje\n"
   ]
  },
  {
   "cell_type": "code",
   "execution_count": 278,
   "id": "991dc682-eaad-4ab8-8c43-a7149268ea91",
   "metadata": {},
   "outputs": [
    {
     "name": "stdout",
     "output_type": "stream",
     "text": [
      "     Edad  Ingresos_anuales(k$)  Puntuacion_de_gasto (1-100)  Numero_Grupo\n",
      "0      19                    15                           39             0\n",
      "1      21                    15                           81             4\n",
      "2      20                    16                            6             0\n",
      "3      23                    16                           77             4\n",
      "4      31                    17                           40             0\n",
      "..    ...                   ...                          ...           ...\n",
      "195    35                   120                           79             1\n",
      "196    45                   126                           28             3\n",
      "197    32                   126                           74             1\n",
      "198    32                   137                           18             3\n",
      "199    30                   137                           83             1\n",
      "\n",
      "[200 rows x 4 columns]\n"
     ]
    }
   ],
   "source": [
    "\n",
    "modelo.labels_ #accede ala etiquetes ac¿siganadas al modelo kmeans\n",
    "datos['Numero_Grupo'] = modelo.labels_  #columna adicional que muestra el grupo asiganado , recordar que arranca desde el 0\n",
    "print(datos) #imprime los datos ;)"
   ]
  },
  {
   "cell_type": "markdown",
   "id": "324e2fd1-25b8-41f3-944a-bce406fa1bf8",
   "metadata": {},
   "source": [
    "𝟱. 𝙀𝙫𝙖𝙡𝙪𝙖𝙧 𝙚𝙡 𝙙𝙚𝙨𝙚𝙢𝙥𝙚𝙣̃𝙤 𝙙𝙚𝙡 𝙢𝙤𝙙𝙚𝙡𝙤 𝙘𝙤𝙣 𝙢𝙚́𝙩𝙧𝙞𝙘𝙖𝙨 𝙘𝙤𝙢𝙤 𝘾𝙤𝙚𝙛𝙞𝙘𝙞𝙚𝙣𝙩𝙚 𝙙𝙚 𝙎𝙞𝙡𝙝𝙤𝙪𝙚𝙩𝙩𝙚, 𝙄́𝙣𝙙𝙞𝙘𝙚 𝙙𝙚 𝘾𝙖𝙡𝙞𝙣𝙨𝙠𝙞-𝙃𝙖𝙧𝙖𝙗𝙖𝙨𝙯, 𝙚𝙩𝙘."
   ]
  },
  {
   "cell_type": "code",
   "execution_count": 279,
   "id": "7253fd6d-1168-4733-8a91-199ced8f4ee5",
   "metadata": {},
   "outputs": [
    {
     "name": "stdout",
     "output_type": "stream",
     "text": [
      "+--------------------------+---------------------+\n",
      "|          Metric          |        value        |\n",
      "+--------------------------+---------------------+\n",
      "| Numero de Observaciones: |         200         |\n",
      "|  Coeficiente silhoutte:  | 0.44428597560893024 |\n",
      "| Indice Calinski Harbasz: | 151.04386000160667  |\n",
      "|  Indice Davies Bouldin:  | 0.8218781633199781  |\n",
      "+--------------------------+---------------------+\n"
     ]
    }
   ],
   "source": [
    "#Se evelaura el desempeño del modelo a tarves de : Coeficiente de Silhouette, Índice de Calinski-Harabasz,Bouldin score\n",
    "#prepracion de la metrica de la columna de grupo\n",
    "observaciones = len(datos)\n",
    "X = datos.drop('Numero_Grupo', axis = 1)\n",
    "clusters = datos['Numero_Grupo'] \n",
    "\n",
    "#calculo de metricas\n",
    "sil_score = silhouette_score(X, clusters)\n",
    "calinski_score = calinski_harabasz_score(X, clusters)\n",
    "davies_score = davies_bouldin_score(X, clusters)\n",
    "\n",
    "#tabla para visualizacion de datos \n",
    "table_data = [\n",
    "    [\"Numero de Observaciones:\", observaciones],\n",
    "    [\"Coeficiente silhoutte: \", sil_score],\n",
    "    ['Indice Calinski Harbasz: ', calinski_score],\n",
    "    ['Indice Davies Bouldin: ', davies_score]\n",
    " ]\n",
    "\n",
    "#Mostrar tabla\n",
    "from tabulate import tabulate\n",
    "print (tabulate(table_data, headers=[\"Metric\", \"value\"], tablefmt='pretty'))\n",
    "\n"
   ]
  },
  {
   "cell_type": "markdown",
   "id": "12d2809f-d3bc-4472-b007-b41bcc3f02db",
   "metadata": {},
   "source": [
    "𝟲. 𝙍𝙚𝙖𝙡𝙞𝙯𝙖𝙧 𝙡𝙖𝙨 𝙙𝙞𝙛𝙚𝙧𝙚𝙣𝙩𝙚𝙨 𝙜𝙧𝙖́𝙛𝙞𝙘𝙖𝙨 𝙦𝙪𝙚 𝙥𝙚𝙧𝙢𝙞𝙩𝙖𝙣 𝙫𝙞𝙨𝙪𝙖𝙡𝙞𝙯𝙖𝙧 𝙡𝙤𝙨\n",
    "𝙧𝙚𝙨𝙪𝙡𝙩𝙖𝙙𝙤𝙨 𝙙𝙚𝙡 𝙢𝙤𝙙𝙚𝙡𝙤"
   ]
  },
  {
   "cell_type": "code",
   "execution_count": 280,
   "id": "5252582d-d8e2-4947-8403-d6419b9e4267",
   "metadata": {},
   "outputs": [
    {
     "data": {
      "image/png": "[encoded data removed]",
      "text/plain": [
       "<Figure size 640x480 with 1 Axes>"
      ]
     },
     "metadata": {},
     "output_type": "display_data"
    }
   ],
   "source": [
    "plt.scatter(datos['Ingresos_anuales(k$)'], datos['Puntuacion_de_gasto (1-100)'],c=datos['Numero_Grupo'], cmap='viridis') #cada punto representara un cliente, donde el eje x es ingresos anuales y el eje y y putnacion de gasto \n",
    "#Python es sensible con los espacios, tenerlos en cuenta en las variables ejeje\n",
    "plt.xlabel('Ingresos_anuales(k$)') #etiqueta de nuestro eje x\n",
    "plt.ylabel('Puntuacion_de_gasto(1-100)') #etiqueta de nuestro eje y\n",
    "plt.title('Grupos de clientes en relacion de gasto a sus ingresos')  #titutlo de la grafica\n",
    "plt.show()"
   ]
  },
  {
   "cell_type": "code",
   "execution_count": 285,
   "id": "e03b0571-91a3-4b43-bc54-45c3410ffc9e",
   "metadata": {},
   "outputs": [
    {
     "data": {
      "application/vnd.plotly.v1+json": {
       "config": {
        "plotlyServerURL": "https://plot.ly"
       },
       "data": [
        {
         "hovertemplate": "Ingresos_anuales(k$)=%{x}<br>Puntuacion_de_gasto (1-100)=%{y}<br>Edad=%{z}<br>Numero_Grupo=%{marker.color}<extra></extra>",
         "legendgroup": "",
         "marker": {
          "color": [
           0,
           4,
           0,
           4,
           0,
           4,
           0,
           4,
           0,
           4,
           0,
           4,
           0,
           4,
           0,
           4,
           0,
           4,
           0,
           4,
           0,
           4,
           0,
           4,
           0,
           4,
           0,
           4,
           0,
           4,
           0,
           4,
           0,
           4,
           0,
           4,
           0,
           4,
           0,
           4,
           0,
           4,
           0,
           4,
           0,
           4,
           2,
           2,
           2,
           2,
           2,
           2,
           2,
           2,
           2,
           2,
           2,
           2,
           2,
           2,
           2,
           2,
           2,
           2,
           2,
           2,
           2,
           2,
           2,
           2,
           2,
           2,
           2,
           2,
           2,
           2,
           2,
           2,
           2,
           2,
           2,
           2,
           2,
           2,
           2,
           2,
           2,
           2,
           2,
           2,
           2,
           2,
           2,
           2,
           2,
           2,
           2,
           2,
           2,
           2,
           2,
           2,
           2,
           2,
           2,
           2,
           2,
           2,
           2,
           2,
           2,
           2,
           2,
           2,
           2,
           2,
           2,
           2,
           2,
           2,
           2,
           2,
           2,
           1,
           3,
           1,
           2,
           1,
           3,
           1,
           3,
           1,
           3,
           1,
           3,
           1,
           3,
           1,
           3,
           1,
           3,
           1,
           2,
           1,
           3,
           1,
           3,
           1,
           3,
           1,
           3,
           1,
           3,
           1,
           3,
           1,
           3,
           1,
           3,
           1,
           3,
           1,
           3,
           1,
           3,
           1,
           3,
           1,
           3,
           1,
           3,
           1,
           3,
           1,
           3,
           1,
           3,
           1,
           3,
           1,
           3,
           1,
           3,
           1,
           3,
           1,
           3,
           1,
           3,
           1,
           3,
           1,
           3,
           1,
           3,
           1,
           3,
           1,
           3,
           1
          ],
          "coloraxis": "coloraxis",
          "symbol": "circle"
         },
         "mode": "markers",
         "name": "",
         "scene": "scene",
         "showlegend": false,
         "type": "scatter3d",
         "x": [
          15,
          15,
          16,
          16,
          17,
          17,
          18,
          18,
          19,
          19,
          19,
          19,
          20,
          20,
          20,
          20,
          21,
          21,
          23,
          23,
          24,
          24,
          25,
          25,
          28,
          28,
          28,
          28,
          29,
          29,
          30,
          30,
          33,
          33,
          33,
          33,
          34,
          34,
          37,
          37,
          38,
          38,
          39,
          39,
          39,
          39,
          40,
          40,
          40,
          40,
          42,
          42,
          43,
          43,
          43,
          43,
          44,
          44,
          46,
          46,
          46,
          46,
          47,
          47,
          48,
          48,
          48,
          48,
          48,
          48,
          49,
          49,
          50,
          50,
          54,
          54,
          54,
          54,
          54,
          54,
          54,
          54,
          54,
          54,
          54,
          54,
          57,
          57,
          58,
          58,
          59,
          59,
          60,
          60,
          60,
          60,
          60,
          60,
          61,
          61,
          62,
          62,
          62,
          62,
          62,
          62,
          63,
          63,
          63,
          63,
          63,
          63,
          64,
          64,
          65,
          65,
          65,
          65,
          67,
          67,
          67,
          67,
          69,
          69,
          70,
          70,
          71,
          71,
          71,
          71,
          71,
          71,
          72,
          72,
          73,
          73,
          73,
          73,
          74,
          74,
          75,
          75,
          76,
          76,
          77,
          77,
          77,
          77,
          78,
          78,
          78,
          78,
          78,
          78,
          78,
          78,
          78,
          78,
          78,
          78,
          79,
          79,
          81,
          81,
          85,
          85,
          86,
          86,
          87,
          87,
          87,
          87,
          87,
          87,
          88,
          88,
          88,
          88,
          93,
          93,
          97,
          97,
          98,
          98,
          99,
          99,
          101,
          101,
          103,
          103,
          103,
          103,
          113,
          113,
          120,
          120,
          126,
          126,
          137,
          137
         ],
         "y": [
          39,
          81,
          6,
          77,
          40,
          76,
          6,
          94,
          3,
          72,
          14,
          99,
          15,
          77,
          13,
          79,
          35,
          66,
          29,
          98,
          35,
          73,
          5,
          73,
          14,
          82,
          32,
          61,
          31,
          87,
          4,
          73,
          4,
          92,
          14,
          81,
          17,
          73,
          26,
          75,
          35,
          92,
          36,
          61,
          28,
          65,
          55,
          47,
          42,
          42,
          52,
          60,
          54,
          60,
          45,
          41,
          50,
          46,
          51,
          46,
          56,
          55,
          52,
          59,
          51,
          59,
          50,
          48,
          59,
          47,
          55,
          42,
          49,
          56,
          47,
          54,
          53,
          48,
          52,
          42,
          51,
          55,
          41,
          44,
          57,
          46,
          58,
          55,
          60,
          46,
          55,
          41,
          49,
          40,
          42,
          52,
          47,
          50,
          42,
          49,
          41,
          48,
          59,
          55,
          56,
          42,
          50,
          46,
          43,
          48,
          52,
          54,
          42,
          46,
          48,
          50,
          43,
          59,
          43,
          57,
          56,
          40,
          58,
          91,
          29,
          77,
          35,
          95,
          11,
          75,
          9,
          75,
          34,
          71,
          5,
          88,
          7,
          73,
          10,
          72,
          5,
          93,
          40,
          87,
          12,
          97,
          36,
          74,
          22,
          90,
          17,
          88,
          20,
          76,
          16,
          89,
          1,
          78,
          1,
          73,
          35,
          83,
          5,
          93,
          26,
          75,
          20,
          95,
          27,
          63,
          13,
          75,
          10,
          92,
          13,
          86,
          15,
          69,
          14,
          90,
          32,
          86,
          15,
          88,
          39,
          97,
          24,
          68,
          17,
          85,
          23,
          69,
          8,
          91,
          16,
          79,
          28,
          74,
          18,
          83
         ],
         "z": [
          19,
          21,
          20,
          23,
          31,
          22,
          35,
          23,
          64,
          30,
          67,
          35,
          58,
          24,
          37,
          22,
          35,
          20,
          52,
          35,
          35,
          25,
          46,
          31,
          54,
          29,
          45,
          35,
          40,
          23,
          60,
          21,
          53,
          18,
          49,
          21,
          42,
          30,
          36,
          20,
          65,
          24,
          48,
          31,
          49,
          24,
          50,
          27,
          29,
          31,
          49,
          33,
          31,
          59,
          50,
          47,
          51,
          69,
          27,
          53,
          70,
          19,
          67,
          54,
          63,
          18,
          43,
          68,
          19,
          32,
          70,
          47,
          60,
          60,
          59,
          26,
          45,
          40,
          23,
          49,
          57,
          38,
          67,
          46,
          21,
          48,
          55,
          22,
          34,
          50,
          68,
          18,
          48,
          40,
          32,
          24,
          47,
          27,
          48,
          20,
          23,
          49,
          67,
          26,
          49,
          21,
          66,
          54,
          68,
          66,
          65,
          19,
          38,
          19,
          18,
          19,
          63,
          49,
          51,
          50,
          27,
          38,
          40,
          39,
          23,
          31,
          43,
          40,
          59,
          38,
          47,
          39,
          25,
          31,
          20,
          29,
          44,
          32,
          19,
          35,
          57,
          32,
          28,
          32,
          25,
          28,
          48,
          32,
          34,
          34,
          43,
          39,
          44,
          38,
          47,
          27,
          37,
          30,
          34,
          30,
          56,
          29,
          19,
          31,
          50,
          36,
          42,
          33,
          36,
          32,
          40,
          28,
          36,
          36,
          52,
          30,
          58,
          27,
          59,
          35,
          37,
          32,
          46,
          29,
          41,
          30,
          54,
          28,
          41,
          36,
          34,
          32,
          33,
          38,
          47,
          35,
          45,
          32,
          32,
          30
         ]
        }
       ],
       "layout": {
        "autosize": true,
        "coloraxis": {
         "colorbar": {
          "title": {
           "text": "Numero_Grupo"
          }
         },
         "colorscale": [
          [
           0,
           "rgb(228,26,28)"
          ],
          [
           0.125,
           "rgb(55,126,184)"
          ],
          [
           0.25,
           "rgb(77,175,74)"
          ],
          [
           0.375,
           "rgb(152,78,163)"
          ],
          [
           0.5,
           "rgb(255,127,0)"
          ],
          [
           0.625,
           "rgb(255,255,51)"
          ],
          [
           0.75,
           "rgb(166,86,40)"
          ],
          [
           0.875,
           "rgb(247,129,191)"
          ],
          [
           1,
           "rgb(153,153,153)"
          ]
         ]
        },
        "legend": {
         "tracegroupgap": 0
        },
        "margin": {
         "t": 60
        },
        "scene": {
         "aspectmode": "auto",
         "aspectratio": {
          "x": 1.429431716261804,
          "y": 1.1482320343742363,
          "z": 0.609265977423064
         },
         "camera": {
          "center": {
           "x": 0,
           "y": 0,
           "z": 0
          },
          "eye": {
           "x": 0.39699491496314526,
           "y": 0.39699491496314343,
           "z": 0.396994914963146
          },
          "projection": {
           "type": "perspective"
          },
          "up": {
           "x": 0.19232691954463765,
           "y": -0.16045170773268072,
           "z": 0.9681247881880398
          }
         },
         "domain": {
          "x": [
           0,
           1
          ],
          "y": [
           0,
           1
          ]
         },
         "xaxis": {
          "title": {
           "text": "Ingresos_anuales(k$)"
          },
          "type": "linear"
         },
         "yaxis": {
          "title": {
           "text": "Puntuacion_de_gasto (1-100)"
          },
          "type": "linear"
         },
         "zaxis": {
          "title": {
           "text": "Edad"
          },
          "type": "linear"
         }
        },
        "showlegend": false,
        "template": {
         "data": {
          "bar": [
           {
            "error_x": {
             "color": "#2a3f5f"
            },
            "error_y": {
             "color": "#2a3f5f"
            },
            "marker": {
             "line": {
              "color": "#E5ECF6",
              "width": 0.5
             },
             "pattern": {
              "fillmode": "overlay",
              "size": 10,
              "solidity": 0.2
             }
            },
            "type": "bar"
           }
          ],
          "barpolar": [
           {
            "marker": {
             "line": {
              "color": "#E5ECF6",
              "width": 0.5
             },
             "pattern": {
              "fillmode": "overlay",
              "size": 10,
              "solidity": 0.2
             }
            },
            "type": "barpolar"
           }
          ],
          "carpet": [
           {
            "aaxis": {
             "endlinecolor": "#2a3f5f",
             "gridcolor": "white",
             "linecolor": "white",
             "minorgridcolor": "white",
             "startlinecolor": "#2a3f5f"
            },
            "baxis": {
             "endlinecolor": "#2a3f5f",
             "gridcolor": "white",
             "linecolor": "white",
             "minorgridcolor": "white",
             "startlinecolor": "#2a3f5f"
            },
            "type": "carpet"
           }
          ],
          "choropleth": [
           {
            "colorbar": {
             "outlinewidth": 0,
             "ticks": ""
            },
            "type": "choropleth"
           }
          ],
          "contour": [
           {
            "colorbar": {
             "outlinewidth": 0,
             "ticks": ""
            },
            "colorscale": [
             [
              0,
              "#0d0887"
             ],
             [
              0.1111111111111111,
              "#46039f"
             ],
             [
              0.2222222222222222,
              "#7201a8"
             ],
             [
              0.3333333333333333,
              "#9c179e"
             ],
             [
              0.4444444444444444,
              "#bd3786"
             ],
             [
              0.5555555555555556,
              "#d8576b"
             ],
             [
              0.6666666666666666,
              "#ed7953"
             ],
             [
              0.7777777777777778,
              "#fb9f3a"
             ],
             [
              0.8888888888888888,
              "#fdca26"
             ],
             [
              1,
              "#f0f921"
             ]
            ],
            "type": "contour"
           }
          ],
          "contourcarpet": [
           {
            "colorbar": {
             "outlinewidth": 0,
             "ticks": ""
            },
            "type": "contourcarpet"
           }
          ],
          "heatmap": [
           {
            "colorbar": {
             "outlinewidth": 0,
             "ticks": ""
            },
            "colorscale": [
             [
              0,
              "#0d0887"
             ],
             [
              0.1111111111111111,
              "#46039f"
             ],
             [
              0.2222222222222222,
              "#7201a8"
             ],
             [
              0.3333333333333333,
              "#9c179e"
             ],
             [
              0.4444444444444444,
              "#bd3786"
             ],
             [
              0.5555555555555556,
              "#d8576b"
             ],
             [
              0.6666666666666666,
              "#ed7953"
             ],
             [
              0.7777777777777778,
              "#fb9f3a"
             ],
             [
              0.8888888888888888,
              "#fdca26"
             ],
             [
              1,
              "#f0f921"
             ]
            ],
            "type": "heatmap"
           }
          ],
          "heatmapgl": [
           {
            "colorbar": {
             "outlinewidth": 0,
             "ticks": ""
            },
            "colorscale": [
             [
              0,
              "#0d0887"
             ],
             [
              0.1111111111111111,
              "#46039f"
             ],
             [
              0.2222222222222222,
              "#7201a8"
             ],
             [
              0.3333333333333333,
              "#9c179e"
             ],
             [
              0.4444444444444444,
              "#bd3786"
             ],
             [
              0.5555555555555556,
              "#d8576b"
             ],
             [
              0.6666666666666666,
              "#ed7953"
             ],
             [
              0.7777777777777778,
              "#fb9f3a"
             ],
             [
              0.8888888888888888,
              "#fdca26"
             ],
             [
              1,
              "#f0f921"
             ]
            ],
            "type": "heatmapgl"
           }
          ],
          "histogram": [
           {
            "marker": {
             "pattern": {
              "fillmode": "overlay",
              "size": 10,
              "solidity": 0.2
             }
            },
            "type": "histogram"
           }
          ],
          "histogram2d": [
           {
            "colorbar": {
             "outlinewidth": 0,
             "ticks": ""
            },
            "colorscale": [
             [
              0,
              "#0d0887"
             ],
             [
              0.1111111111111111,
              "#46039f"
             ],
             [
              0.2222222222222222,
              "#7201a8"
             ],
             [
              0.3333333333333333,
              "#9c179e"
             ],
             [
              0.4444444444444444,
              "#bd3786"
             ],
             [
              0.5555555555555556,
              "#d8576b"
             ],
             [
              0.6666666666666666,
              "#ed7953"
             ],
             [
              0.7777777777777778,
              "#fb9f3a"
             ],
             [
              0.8888888888888888,
              "#fdca26"
             ],
             [
              1,
              "#f0f921"
             ]
            ],
            "type": "histogram2d"
           }
          ],
          "histogram2dcontour": [
           {
            "colorbar": {
             "outlinewidth": 0,
             "ticks": ""
            },
            "colorscale": [
             [
              0,
              "#0d0887"
             ],
             [
              0.1111111111111111,
              "#46039f"
             ],
             [
              0.2222222222222222,
              "#7201a8"
             ],
             [
              0.3333333333333333,
              "#9c179e"
             ],
             [
              0.4444444444444444,
              "#bd3786"
             ],
             [
              0.5555555555555556,
              "#d8576b"
             ],
             [
              0.6666666666666666,
              "#ed7953"
             ],
             [
              0.7777777777777778,
              "#fb9f3a"
             ],
             [
              0.8888888888888888,
              "#fdca26"
             ],
             [
              1,
              "#f0f921"
             ]
            ],
            "type": "histogram2dcontour"
           }
          ],
          "mesh3d": [
           {
            "colorbar": {
             "outlinewidth": 0,
             "ticks": ""
            },
            "type": "mesh3d"
           }
          ],
          "parcoords": [
           {
            "line": {
             "colorbar": {
              "outlinewidth": 0,
              "ticks": ""
             }
            },
            "type": "parcoords"
           }
          ],
          "pie": [
           {
            "automargin": true,
            "type": "pie"
           }
          ],
          "scatter": [
           {
            "fillpattern": {
             "fillmode": "overlay",
             "size": 10,
             "solidity": 0.2
            },
            "type": "scatter"
           }
          ],
          "scatter3d": [
           {
            "line": {
             "colorbar": {
              "outlinewidth": 0,
              "ticks": ""
             }
            },
            "marker": {
             "colorbar": {
              "outlinewidth": 0,
              "ticks": ""
             }
            },
            "type": "scatter3d"
           }
          ],
          "scattercarpet": [
           {
            "marker": {
             "colorbar": {
              "outlinewidth": 0,
              "ticks": ""
             }
            },
            "type": "scattercarpet"
           }
          ],
          "scattergeo": [
           {
            "marker": {
             "colorbar": {
              "outlinewidth": 0,
              "ticks": ""
             }
            },
            "type": "scattergeo"
           }
          ],
          "scattergl": [
           {
            "marker": {
             "colorbar": {
              "outlinewidth": 0,
              "ticks": ""
             }
            },
            "type": "scattergl"
           }
          ],
          "scattermapbox": [
           {
            "marker": {
             "colorbar": {
              "outlinewidth": 0,
              "ticks": ""
             }
            },
            "type": "scattermapbox"
           }
          ],
          "scatterpolar": [
           {
            "marker": {
             "colorbar": {
              "outlinewidth": 0,
              "ticks": ""
             }
            },
            "type": "scatterpolar"
           }
          ],
          "scatterpolargl": [
           {
            "marker": {
             "colorbar": {
              "outlinewidth": 0,
              "ticks": ""
             }
            },
            "type": "scatterpolargl"
           }
          ],
          "scatterternary": [
           {
            "marker": {
             "colorbar": {
              "outlinewidth": 0,
              "ticks": ""
             }
            },
            "type": "scatterternary"
           }
          ],
          "surface": [
           {
            "colorbar": {
             "outlinewidth": 0,
             "ticks": ""
            },
            "colorscale": [
             [
              0,
              "#0d0887"
             ],
             [
              0.1111111111111111,
              "#46039f"
             ],
             [
              0.2222222222222222,
              "#7201a8"
             ],
             [
              0.3333333333333333,
              "#9c179e"
             ],
             [
              0.4444444444444444,
              "#bd3786"
             ],
             [
              0.5555555555555556,
              "#d8576b"
             ],
             [
              0.6666666666666666,
              "#ed7953"
             ],
             [
              0.7777777777777778,
              "#fb9f3a"
             ],
             [
              0.8888888888888888,
              "#fdca26"
             ],
             [
              1,
              "#f0f921"
             ]
            ],
            "type": "surface"
           }
          ],
          "table": [
           {
            "cells": {
             "fill": {
              "color": "#EBF0F8"
             },
             "line": {
              "color": "white"
             }
            },
            "header": {
             "fill": {
              "color": "#C8D4E3"
             },
             "line": {
              "color": "white"
             }
            },
            "type": "table"
           }
          ]
         },
         "layout": {
          "annotationdefaults": {
           "arrowcolor": "#2a3f5f",
           "arrowhead": 0,
           "arrowwidth": 1
          },
          "autotypenumbers": "strict",
          "coloraxis": {
           "colorbar": {
            "outlinewidth": 0,
            "ticks": ""
           }
          },
          "colorscale": {
           "diverging": [
            [
             0,
             "#8e0152"
            ],
            [
             0.1,
             "#c51b7d"
            ],
            [
             0.2,
             "#de77ae"
            ],
            [
             0.3,
             "#f1b6da"
            ],
            [
             0.4,
             "#fde0ef"
            ],
            [
             0.5,
             "#f7f7f7"
            ],
            [
             0.6,
             "#e6f5d0"
            ],
            [
             0.7,
             "#b8e186"
            ],
            [
             0.8,
             "#7fbc41"
            ],
            [
             0.9,
             "#4d9221"
            ],
            [
             1,
             "#276419"
            ]
           ],
           "sequential": [
            [
             0,
             "#0d0887"
            ],
            [
             0.1111111111111111,
             "#46039f"
            ],
            [
             0.2222222222222222,
             "#7201a8"
            ],
            [
             0.3333333333333333,
             "#9c179e"
            ],
            [
             0.4444444444444444,
             "#bd3786"
            ],
            [
             0.5555555555555556,
             "#d8576b"
            ],
            [
             0.6666666666666666,
             "#ed7953"
            ],
            [
             0.7777777777777778,
             "#fb9f3a"
            ],
            [
             0.8888888888888888,
             "#fdca26"
            ],
            [
             1,
             "#f0f921"
            ]
           ],
           "sequentialminus": [
            [
             0,
             "#0d0887"
            ],
            [
             0.1111111111111111,
             "#46039f"
            ],
            [
             0.2222222222222222,
             "#7201a8"
            ],
            [
             0.3333333333333333,
             "#9c179e"
            ],
            [
             0.4444444444444444,
             "#bd3786"
            ],
            [
             0.5555555555555556,
             "#d8576b"
            ],
            [
             0.6666666666666666,
             "#ed7953"
            ],
            [
             0.7777777777777778,
             "#fb9f3a"
            ],
            [
             0.8888888888888888,
             "#fdca26"
            ],
            [
             1,
             "#f0f921"
            ]
           ]
          },
          "colorway": [
           "#636efa",
           "#EF553B",
           "#00cc96",
           "#ab63fa",
           "#FFA15A",
           "#19d3f3",
           "#FF6692",
           "#B6E880",
           "#FF97FF",
           "#FECB52"
          ],
          "font": {
           "color": "#2a3f5f"
          },
          "geo": {
           "bgcolor": "white",
           "lakecolor": "white",
           "landcolor": "#E5ECF6",
           "showlakes": true,
           "showland": true,
           "subunitcolor": "white"
          },
          "hoverlabel": {
           "align": "left"
          },
          "hovermode": "closest",
          "mapbox": {
           "style": "light"
          },
          "paper_bgcolor": "white",
          "plot_bgcolor": "#E5ECF6",
          "polar": {
           "angularaxis": {
            "gridcolor": "white",
            "linecolor": "white",
            "ticks": ""
           },
           "bgcolor": "#E5ECF6",
           "radialaxis": {
            "gridcolor": "white",
            "linecolor": "white",
            "ticks": ""
           }
          },
          "scene": {
           "xaxis": {
            "backgroundcolor": "#E5ECF6",
            "gridcolor": "white",
            "gridwidth": 2,
            "linecolor": "white",
            "showbackground": true,
            "ticks": "",
            "zerolinecolor": "white"
           },
           "yaxis": {
            "backgroundcolor": "#E5ECF6",
            "gridcolor": "white",
            "gridwidth": 2,
            "linecolor": "white",
            "showbackground": true,
            "ticks": "",
            "zerolinecolor": "white"
           },
           "zaxis": {
            "backgroundcolor": "#E5ECF6",
            "gridcolor": "white",
            "gridwidth": 2,
            "linecolor": "white",
            "showbackground": true,
            "ticks": "",
            "zerolinecolor": "white"
           }
          },
          "shapedefaults": {
           "line": {
            "color": "#2a3f5f"
           }
          },
          "ternary": {
           "aaxis": {
            "gridcolor": "white",
            "linecolor": "white",
            "ticks": ""
           },
           "baxis": {
            "gridcolor": "white",
            "linecolor": "white",
            "ticks": ""
           },
           "bgcolor": "#E5ECF6",
           "caxis": {
            "gridcolor": "white",
            "linecolor": "white",
            "ticks": ""
           }
          },
          "title": {
           "x": 0.05
          },
          "xaxis": {
           "automargin": true,
           "gridcolor": "white",
           "linecolor": "white",
           "ticks": "",
           "title": {
            "standoff": 15
           },
           "zerolinecolor": "white",
           "zerolinewidth": 2
          },
          "yaxis": {
           "automargin": true,
           "gridcolor": "white",
           "linecolor": "white",
           "ticks": "",
           "title": {
            "standoff": 15
           },
           "zerolinecolor": "white",
           "zerolinewidth": 2
          }
         }
        }
       }
      },
      "image/png": "[encoded data removed]",
      "text/html": [
       "<div>                            <div id=\"e0b126cb-f71f-410a-a1fb-c44c6a7aaace\" class=\"plotly-graph-div\" style=\"height:525px; width:100%;\"></div>            <script type=\"text/javascript\">                require([\"plotly\"], function(Plotly) {                    window.PLOTLYENV=window.PLOTLYENV || {};                                    if (document.getElementById(\"e0b126cb-f71f-410a-a1fb-c44c6a7aaace\")) {                    Plotly.newPlot(                        \"e0b126cb-f71f-410a-a1fb-c44c6a7aaace\",                        [{\"hovertemplate\":\"Ingresos_anuales(k$)=%{x}<br>Puntuacion_de_gasto (1-100)=%{y}<br>Edad=%{z}<br>Numero_Grupo=%{marker.color}<extra></extra>\",\"legendgroup\":\"\",\"marker\":{\"color\":[0,4,0,4,0,4,0,4,0,4,0,4,0,4,0,4,0,4,0,4,0,4,0,4,0,4,0,4,0,4,0,4,0,4,0,4,0,4,0,4,0,4,0,4,0,4,2,2,2,2,2,2,2,2,2,2,2,2,2,2,2,2,2,2,2,2,2,2,2,2,2,2,2,2,2,2,2,2,2,2,2,2,2,2,2,2,2,2,2,2,2,2,2,2,2,2,2,2,2,2,2,2,2,2,2,2,2,2,2,2,2,2,2,2,2,2,2,2,2,2,2,2,2,1,3,1,2,1,3,1,3,1,3,1,3,1,3,1,3,1,3,1,2,1,3,1,3,1,3,1,3,1,3,1,3,1,3,1,3,1,3,1,3,1,3,1,3,1,3,1,3,1,3,1,3,1,3,1,3,1,3,1,3,1,3,1,3,1,3,1,3,1,3,1,3,1,3,1,3,1],\"coloraxis\":\"coloraxis\",\"symbol\":\"circle\"},\"mode\":\"markers\",\"name\":\"\",\"scene\":\"scene\",\"showlegend\":false,\"x\":[15,15,16,16,17,17,18,18,19,19,19,19,20,20,20,20,21,21,23,23,24,24,25,25,28,28,28,28,29,29,30,30,33,33,33,33,34,34,37,37,38,38,39,39,39,39,40,40,40,40,42,42,43,43,43,43,44,44,46,46,46,46,47,47,48,48,48,48,48,48,49,49,50,50,54,54,54,54,54,54,54,54,54,54,54,54,57,57,58,58,59,59,60,60,60,60,60,60,61,61,62,62,62,62,62,62,63,63,63,63,63,63,64,64,65,65,65,65,67,67,67,67,69,69,70,70,71,71,71,71,71,71,72,72,73,73,73,73,74,74,75,75,76,76,77,77,77,77,78,78,78,78,78,78,78,78,78,78,78,78,79,79,81,81,85,85,86,86,87,87,87,87,87,87,88,88,88,88,93,93,97,97,98,98,99,99,101,101,103,103,103,103,113,113,120,120,126,126,137,137],\"y\":[39,81,6,77,40,76,6,94,3,72,14,99,15,77,13,79,35,66,29,98,35,73,5,73,14,82,32,61,31,87,4,73,4,92,14,81,17,73,26,75,35,92,36,61,28,65,55,47,42,42,52,60,54,60,45,41,50,46,51,46,56,55,52,59,51,59,50,48,59,47,55,42,49,56,47,54,53,48,52,42,51,55,41,44,57,46,58,55,60,46,55,41,49,40,42,52,47,50,42,49,41,48,59,55,56,42,50,46,43,48,52,54,42,46,48,50,43,59,43,57,56,40,58,91,29,77,35,95,11,75,9,75,34,71,5,88,7,73,10,72,5,93,40,87,12,97,36,74,22,90,17,88,20,76,16,89,1,78,1,73,35,83,5,93,26,75,20,95,27,63,13,75,10,92,13,86,15,69,14,90,32,86,15,88,39,97,24,68,17,85,23,69,8,91,16,79,28,74,18,83],\"z\":[19,21,20,23,31,22,35,23,64,30,67,35,58,24,37,22,35,20,52,35,35,25,46,31,54,29,45,35,40,23,60,21,53,18,49,21,42,30,36,20,65,24,48,31,49,24,50,27,29,31,49,33,31,59,50,47,51,69,27,53,70,19,67,54,63,18,43,68,19,32,70,47,60,60,59,26,45,40,23,49,57,38,67,46,21,48,55,22,34,50,68,18,48,40,32,24,47,27,48,20,23,49,67,26,49,21,66,54,68,66,65,19,38,19,18,19,63,49,51,50,27,38,40,39,23,31,43,40,59,38,47,39,25,31,20,29,44,32,19,35,57,32,28,32,25,28,48,32,34,34,43,39,44,38,47,27,37,30,34,30,56,29,19,31,50,36,42,33,36,32,40,28,36,36,52,30,58,27,59,35,37,32,46,29,41,30,54,28,41,36,34,32,33,38,47,35,45,32,32,30],\"type\":\"scatter3d\"}],                        {\"template\":{\"data\":{\"histogram2dcontour\":[{\"type\":\"histogram2dcontour\",\"colorbar\":{\"outlinewidth\":0,\"ticks\":\"\"},\"colorscale\":[[0.0,\"#0d0887\"],[0.1111111111111111,\"#46039f\"],[0.2222222222222222,\"#7201a8\"],[0.3333333333333333,\"#9c179e\"],[0.4444444444444444,\"#bd3786\"],[0.5555555555555556,\"#d8576b\"],[0.6666666666666666,\"#ed7953\"],[0.7777777777777778,\"#fb9f3a\"],[0.8888888888888888,\"#fdca26\"],[1.0,\"#f0f921\"]]}],\"choropleth\":[{\"type\":\"choropleth\",\"colorbar\":{\"outlinewidth\":0,\"ticks\":\"\"}}],\"histogram2d\":[{\"type\":\"histogram2d\",\"colorbar\":{\"outlinewidth\":0,\"ticks\":\"\"},\"colorscale\":[[0.0,\"#0d0887\"],[0.1111111111111111,\"#46039f\"],[0.2222222222222222,\"#7201a8\"],[0.3333333333333333,\"#9c179e\"],[0.4444444444444444,\"#bd3786\"],[0.5555555555555556,\"#d8576b\"],[0.6666666666666666,\"#ed7953\"],[0.7777777777777778,\"#fb9f3a\"],[0.8888888888888888,\"#fdca26\"],[1.0,\"#f0f921\"]]}],\"heatmap\":[{\"type\":\"heatmap\",\"colorbar\":{\"outlinewidth\":0,\"ticks\":\"\"},\"colorscale\":[[0.0,\"#0d0887\"],[0.1111111111111111,\"#46039f\"],[0.2222222222222222,\"#7201a8\"],[0.3333333333333333,\"#9c179e\"],[0.4444444444444444,\"#bd3786\"],[0.5555555555555556,\"#d8576b\"],[0.6666666666666666,\"#ed7953\"],[0.7777777777777778,\"#fb9f3a\"],[0.8888888888888888,\"#fdca26\"],[1.0,\"#f0f921\"]]}],\"heatmapgl\":[{\"type\":\"heatmapgl\",\"colorbar\":{\"outlinewidth\":0,\"ticks\":\"\"},\"colorscale\":[[0.0,\"#0d0887\"],[0.1111111111111111,\"#46039f\"],[0.2222222222222222,\"#7201a8\"],[0.3333333333333333,\"#9c179e\"],[0.4444444444444444,\"#bd3786\"],[0.5555555555555556,\"#d8576b\"],[0.6666666666666666,\"#ed7953\"],[0.7777777777777778,\"#fb9f3a\"],[0.8888888888888888,\"#fdca26\"],[1.0,\"#f0f921\"]]}],\"contourcarpet\":[{\"type\":\"contourcarpet\",\"colorbar\":{\"outlinewidth\":0,\"ticks\":\"\"}}],\"contour\":[{\"type\":\"contour\",\"colorbar\":{\"outlinewidth\":0,\"ticks\":\"\"},\"colorscale\":[[0.0,\"#0d0887\"],[0.1111111111111111,\"#46039f\"],[0.2222222222222222,\"#7201a8\"],[0.3333333333333333,\"#9c179e\"],[0.4444444444444444,\"#bd3786\"],[0.5555555555555556,\"#d8576b\"],[0.6666666666666666,\"#ed7953\"],[0.7777777777777778,\"#fb9f3a\"],[0.8888888888888888,\"#fdca26\"],[1.0,\"#f0f921\"]]}],\"surface\":[{\"type\":\"surface\",\"colorbar\":{\"outlinewidth\":0,\"ticks\":\"\"},\"colorscale\":[[0.0,\"#0d0887\"],[0.1111111111111111,\"#46039f\"],[0.2222222222222222,\"#7201a8\"],[0.3333333333333333,\"#9c179e\"],[0.4444444444444444,\"#bd3786\"],[0.5555555555555556,\"#d8576b\"],[0.6666666666666666,\"#ed7953\"],[0.7777777777777778,\"#fb9f3a\"],[0.8888888888888888,\"#fdca26\"],[1.0,\"#f0f921\"]]}],\"mesh3d\":[{\"type\":\"mesh3d\",\"colorbar\":{\"outlinewidth\":0,\"ticks\":\"\"}}],\"scatter\":[{\"fillpattern\":{\"fillmode\":\"overlay\",\"size\":10,\"solidity\":0.2},\"type\":\"scatter\"}],\"parcoords\":[{\"type\":\"parcoords\",\"line\":{\"colorbar\":{\"outlinewidth\":0,\"ticks\":\"\"}}}],\"scatterpolargl\":[{\"type\":\"scatterpolargl\",\"marker\":{\"colorbar\":{\"outlinewidth\":0,\"ticks\":\"\"}}}],\"bar\":[{\"error_x\":{\"color\":\"#2a3f5f\"},\"error_y\":{\"color\":\"#2a3f5f\"},\"marker\":{\"line\":{\"color\":\"#E5ECF6\",\"width\":0.5},\"pattern\":{\"fillmode\":\"overlay\",\"size\":10,\"solidity\":0.2}},\"type\":\"bar\"}],\"scattergeo\":[{\"type\":\"scattergeo\",\"marker\":{\"colorbar\":{\"outlinewidth\":0,\"ticks\":\"\"}}}],\"scatterpolar\":[{\"type\":\"scatterpolar\",\"marker\":{\"colorbar\":{\"outlinewidth\":0,\"ticks\":\"\"}}}],\"histogram\":[{\"marker\":{\"pattern\":{\"fillmode\":\"overlay\",\"size\":10,\"solidity\":0.2}},\"type\":\"histogram\"}],\"scattergl\":[{\"type\":\"scattergl\",\"marker\":{\"colorbar\":{\"outlinewidth\":0,\"ticks\":\"\"}}}],\"scatter3d\":[{\"type\":\"scatter3d\",\"line\":{\"colorbar\":{\"outlinewidth\":0,\"ticks\":\"\"}},\"marker\":{\"colorbar\":{\"outlinewidth\":0,\"ticks\":\"\"}}}],\"scattermapbox\":[{\"type\":\"scattermapbox\",\"marker\":{\"colorbar\":{\"outlinewidth\":0,\"ticks\":\"\"}}}],\"scatterternary\":[{\"type\":\"scatterternary\",\"marker\":{\"colorbar\":{\"outlinewidth\":0,\"ticks\":\"\"}}}],\"scattercarpet\":[{\"type\":\"scattercarpet\",\"marker\":{\"colorbar\":{\"outlinewidth\":0,\"ticks\":\"\"}}}],\"carpet\":[{\"aaxis\":{\"endlinecolor\":\"#2a3f5f\",\"gridcolor\":\"white\",\"linecolor\":\"white\",\"minorgridcolor\":\"white\",\"startlinecolor\":\"#2a3f5f\"},\"baxis\":{\"endlinecolor\":\"#2a3f5f\",\"gridcolor\":\"white\",\"linecolor\":\"white\",\"minorgridcolor\":\"white\",\"startlinecolor\":\"#2a3f5f\"},\"type\":\"carpet\"}],\"table\":[{\"cells\":{\"fill\":{\"color\":\"#EBF0F8\"},\"line\":{\"color\":\"white\"}},\"header\":{\"fill\":{\"color\":\"#C8D4E3\"},\"line\":{\"color\":\"white\"}},\"type\":\"table\"}],\"barpolar\":[{\"marker\":{\"line\":{\"color\":\"#E5ECF6\",\"width\":0.5},\"pattern\":{\"fillmode\":\"overlay\",\"size\":10,\"solidity\":0.2}},\"type\":\"barpolar\"}],\"pie\":[{\"automargin\":true,\"type\":\"pie\"}]},\"layout\":{\"autotypenumbers\":\"strict\",\"colorway\":[\"#636efa\",\"#EF553B\",\"#00cc96\",\"#ab63fa\",\"#FFA15A\",\"#19d3f3\",\"#FF6692\",\"#B6E880\",\"#FF97FF\",\"#FECB52\"],\"font\":{\"color\":\"#2a3f5f\"},\"hovermode\":\"closest\",\"hoverlabel\":{\"align\":\"left\"},\"paper_bgcolor\":\"white\",\"plot_bgcolor\":\"#E5ECF6\",\"polar\":{\"bgcolor\":\"#E5ECF6\",\"angularaxis\":{\"gridcolor\":\"white\",\"linecolor\":\"white\",\"ticks\":\"\"},\"radialaxis\":{\"gridcolor\":\"white\",\"linecolor\":\"white\",\"ticks\":\"\"}},\"ternary\":{\"bgcolor\":\"#E5ECF6\",\"aaxis\":{\"gridcolor\":\"white\",\"linecolor\":\"white\",\"ticks\":\"\"},\"baxis\":{\"gridcolor\":\"white\",\"linecolor\":\"white\",\"ticks\":\"\"},\"caxis\":{\"gridcolor\":\"white\",\"linecolor\":\"white\",\"ticks\":\"\"}},\"coloraxis\":{\"colorbar\":{\"outlinewidth\":0,\"ticks\":\"\"}},\"colorscale\":{\"sequential\":[[0.0,\"#0d0887\"],[0.1111111111111111,\"#46039f\"],[0.2222222222222222,\"#7201a8\"],[0.3333333333333333,\"#9c179e\"],[0.4444444444444444,\"#bd3786\"],[0.5555555555555556,\"#d8576b\"],[0.6666666666666666,\"#ed7953\"],[0.7777777777777778,\"#fb9f3a\"],[0.8888888888888888,\"#fdca26\"],[1.0,\"#f0f921\"]],\"sequentialminus\":[[0.0,\"#0d0887\"],[0.1111111111111111,\"#46039f\"],[0.2222222222222222,\"#7201a8\"],[0.3333333333333333,\"#9c179e\"],[0.4444444444444444,\"#bd3786\"],[0.5555555555555556,\"#d8576b\"],[0.6666666666666666,\"#ed7953\"],[0.7777777777777778,\"#fb9f3a\"],[0.8888888888888888,\"#fdca26\"],[1.0,\"#f0f921\"]],\"diverging\":[[0,\"#8e0152\"],[0.1,\"#c51b7d\"],[0.2,\"#de77ae\"],[0.3,\"#f1b6da\"],[0.4,\"#fde0ef\"],[0.5,\"#f7f7f7\"],[0.6,\"#e6f5d0\"],[0.7,\"#b8e186\"],[0.8,\"#7fbc41\"],[0.9,\"#4d9221\"],[1,\"#276419\"]]},\"xaxis\":{\"gridcolor\":\"white\",\"linecolor\":\"white\",\"ticks\":\"\",\"title\":{\"standoff\":15},\"zerolinecolor\":\"white\",\"automargin\":true,\"zerolinewidth\":2},\"yaxis\":{\"gridcolor\":\"white\",\"linecolor\":\"white\",\"ticks\":\"\",\"title\":{\"standoff\":15},\"zerolinecolor\":\"white\",\"automargin\":true,\"zerolinewidth\":2},\"scene\":{\"xaxis\":{\"backgroundcolor\":\"#E5ECF6\",\"gridcolor\":\"white\",\"linecolor\":\"white\",\"showbackground\":true,\"ticks\":\"\",\"zerolinecolor\":\"white\",\"gridwidth\":2},\"yaxis\":{\"backgroundcolor\":\"#E5ECF6\",\"gridcolor\":\"white\",\"linecolor\":\"white\",\"showbackground\":true,\"ticks\":\"\",\"zerolinecolor\":\"white\",\"gridwidth\":2},\"zaxis\":{\"backgroundcolor\":\"#E5ECF6\",\"gridcolor\":\"white\",\"linecolor\":\"white\",\"showbackground\":true,\"ticks\":\"\",\"zerolinecolor\":\"white\",\"gridwidth\":2}},\"shapedefaults\":{\"line\":{\"color\":\"#2a3f5f\"}},\"annotationdefaults\":{\"arrowcolor\":\"#2a3f5f\",\"arrowhead\":0,\"arrowwidth\":1},\"geo\":{\"bgcolor\":\"white\",\"landcolor\":\"#E5ECF6\",\"subunitcolor\":\"white\",\"showland\":true,\"showlakes\":true,\"lakecolor\":\"white\"},\"title\":{\"x\":0.05},\"mapbox\":{\"style\":\"light\"}}},\"scene\":{\"domain\":{\"x\":[0.0,1.0],\"y\":[0.0,1.0]},\"xaxis\":{\"title\":{\"text\":\"Ingresos_anuales(k$)\"}},\"yaxis\":{\"title\":{\"text\":\"Puntuacion_de_gasto (1-100)\"}},\"zaxis\":{\"title\":{\"text\":\"Edad\"}}},\"coloraxis\":{\"colorbar\":{\"title\":{\"text\":\"Numero_Grupo\"}},\"colorscale\":[[0.0,\"rgb(228,26,28)\"],[0.125,\"rgb(55,126,184)\"],[0.25,\"rgb(77,175,74)\"],[0.375,\"rgb(152,78,163)\"],[0.5,\"rgb(255,127,0)\"],[0.625,\"rgb(255,255,51)\"],[0.75,\"rgb(166,86,40)\"],[0.875,\"rgb(247,129,191)\"],[1.0,\"rgb(153,153,153)\"]]},\"legend\":{\"tracegroupgap\":0},\"margin\":{\"t\":60},\"showlegend\":false},                        {\"responsive\": true}                    ).then(function(){\n",
       "                            \n",
       "var gd = document.getElementById('e0b126cb-f71f-410a-a1fb-c44c6a7aaace');\n",
       "var x = new MutationObserver(function (mutations, observer) {{\n",
       "        var display = window.getComputedStyle(gd).display;\n",
       "        if (!display || display === 'none') {{\n",
       "            console.log([gd, 'removed!']);\n",
       "            Plotly.purge(gd);\n",
       "            observer.disconnect();\n",
       "        }}\n",
       "}});\n",
       "\n",
       "// Listen for the removal of the full notebook cells\n",
       "var notebookContainer = gd.closest('#notebook-container');\n",
       "if (notebookContainer) {{\n",
       "    x.observe(notebookContainer, {childList: true});\n",
       "}}\n",
       "\n",
       "// Listen for the clearing of the current output cell\n",
       "var outputEl = gd.closest('.output');\n",
       "if (outputEl) {{\n",
       "    x.observe(outputEl, {childList: true});\n",
       "}}\n",
       "\n",
       "                        })                };                });            </script>        </div>"
      ]
     },
     "metadata": {},
     "output_type": "display_data"
    }
   ],
   "source": [
    "#modelo 3d que relacione los datos agrupada, relacionando ahora tamvien la edad\n",
    "Grafica_3d = px.scatter_3d(datos, \n",
    "                           x='Ingresos_anuales(k$)', \n",
    "                           y='Puntuacion_de_gasto (1-100)', \n",
    "                           z='Edad', \n",
    "                           color='Numero_Grupo', \n",
    "                           color_continuous_scale=px.colors.qualitative.Set1)\n",
    "Grafica_3d.update_layout(showlegend=False)"
   ]
  },
  {
   "cell_type": "markdown",
   "id": "7e458307-42ac-4032-a9f2-3fa2a3161137",
   "metadata": {},
   "source": [
    "𝟳. 𝙄𝙣𝙩𝙚𝙧𝙥𝙧𝙚𝙩𝙖𝙧, 𝙖𝙣𝙖𝙡𝙞𝙯𝙖𝙧 𝙮 𝙙𝙤𝙘𝙪𝙢𝙚𝙣𝙩𝙖𝙧 𝙡𝙤𝙨 𝙧𝙚𝙨𝙪𝙡𝙩𝙖𝙙𝙤𝙨 𝙤𝙗𝙩𝙚𝙣𝙞𝙙𝙤𝙨.\r\n"
   ]
  },
  {
   "cell_type": "markdown",
   "id": "0be74939-b118-4289-a76c-de6d814c172b",
   "metadata": {},
   "source": [
    "•\t𝐄𝐧 𝐞𝐥 𝐚𝐧𝐚́𝐥𝐢𝐬𝐢𝐬 𝐬𝐞 𝐨𝐛𝐭𝐮𝐯𝐨 𝐮𝐧 𝐂𝐨𝐞𝐟𝐢𝐜𝐢𝐞𝐧𝐭𝐞 𝐬𝐢𝐥𝐡𝐨𝐮𝐭𝐭𝐞:  𝟎.𝟒𝟒𝟒, 𝐪𝐮𝐞 𝐬𝐢 𝐛𝐢𝐞𝐧 𝐩𝐨𝐝𝐫𝐢́𝐚 𝐞𝐬𝐭𝐚𝐫 𝐦𝐚𝐬 𝐜𝐞𝐫𝐜𝐚 𝐚 𝐮𝐧𝐨, 𝐧𝐨  𝐞𝐬 𝐮𝐧 𝐦𝐚𝐥 𝐧𝐮𝐦𝐞𝐫𝐨 𝐝𝐞 𝐜𝐨𝐞𝐟𝐢𝐜𝐢𝐞𝐧𝐭𝐞 𝐲 𝐧𝐨𝐬 𝐢𝐧𝐝𝐢𝐜𝐚 𝐪𝐮𝐞 𝐥𝐚𝐬 𝐦𝐮𝐞𝐬𝐭𝐫𝐚𝐬 𝐞𝐬𝐭𝐚́𝐧 𝐫𝐞𝐥𝐚𝐭𝐢𝐯𝐚𝐦𝐞𝐧𝐭𝐞 𝐛𝐢𝐞𝐧 𝐚𝐠𝐫𝐮𝐩𝐚𝐝𝐚𝐬 𝐲 𝐞𝐬𝐭𝐚́𝐧 𝐬𝐞𝐩𝐚𝐫𝐚𝐝𝐚𝐬 𝐞𝐧𝐭𝐫𝐞 𝐬𝐢́. 𝐑𝐞𝐜𝐨𝐫𝐝𝐞𝐦𝐨𝐬 𝐪𝐮𝐞 𝐞𝐬𝐭𝐞 𝐜𝐨𝐞𝐟𝐢𝐜𝐢𝐞𝐧𝐭𝐞 𝐦𝐢𝐝𝐞 𝐥𝐚 𝐜𝐚𝐥𝐢𝐝𝐚𝐝 𝐝𝐞 𝐧𝐮𝐞𝐬𝐭𝐫𝐨 𝐜𝐥𝐮𝐬𝐭𝐞𝐫𝐢𝐧𝐠 (𝐬𝐞𝐩𝐚𝐫𝐚𝐜𝐢𝐨́𝐧 𝐝𝐞 𝐧𝐮𝐞𝐬𝐭𝐫𝐨𝐬 𝐝𝐚𝐭𝐨𝐬)\n",
    "\n",
    "\n",
    "•\t𝐒𝐞 𝐨𝐛𝐭𝐮𝐯𝐨 𝐮𝐧 𝐈́𝐧𝐝𝐢𝐜𝐞 𝐂𝐚𝐥𝐢𝐧𝐬𝐤𝐢 𝐇𝐚𝐫𝐛𝐚𝐬𝐳: 𝟏𝟓𝟏.𝟎𝟒𝟑, 𝐮𝐬𝐮𝐚𝐥𝐦𝐞𝐧𝐭𝐞 𝐞𝐧𝐭𝐫𝐞 𝐦𝐚𝐬 𝐚𝐥𝐭𝐨 𝐦𝐞𝐣𝐨𝐫 𝐟𝐮𝐞 𝐥𝐚 𝐚𝐠𝐫𝐮𝐩𝐚𝐜𝐢𝐨́𝐧, 𝐦𝐮𝐞𝐬𝐭𝐫𝐚 𝐪𝐮𝐞 𝐥𝐨𝐬 𝐠𝐫𝐮𝐩𝐨𝐬 𝐞𝐬𝐭𝐚́𝐧 𝐛𝐢𝐞𝐧 𝐝𝐞𝐟𝐢𝐧𝐢𝐝𝐨𝐬 𝐲 𝐪𝐮𝐞 𝐥𝐚 𝐦𝐮𝐞𝐬𝐭𝐫𝐚𝐬 𝐬𝐨𝐧 𝐜𝐞𝐫𝐜𝐚𝐧𝐚𝐬 𝐞𝐧𝐭𝐫𝐞 𝐬𝐢́.\n",
    "\n",
    "\n",
    "•\t𝐒𝐞 𝐨𝐛𝐭𝐮𝐯𝐨 𝐈𝐧𝐝𝐢𝐜𝐞 𝐃𝐚𝐯𝐢𝐞𝐬 𝐁𝐨𝐮𝐥𝐝𝐢𝐧:   𝟎.𝟖𝟐𝟏, 𝐞𝐬 𝐮𝐧 𝐜𝐨𝐟𝐢𝐜𝐢𝐞𝐧𝐭𝐞 𝐛𝐚𝐣𝐨 𝐲 𝐩𝐨𝐫 𝐥𝐨 𝐭𝐚𝐧𝐭𝐨 𝐢𝐧𝐝𝐢𝐜𝐚 𝐪𝐮𝐞 𝐞𝐬 𝐦𝐮𝐲 𝐛𝐮𝐞𝐧𝐨 𝐞𝐧 𝐥𝐚 𝐜𝐚𝐥𝐢𝐝𝐚𝐝 𝐝𝐞 𝐥𝐚 𝐬𝐞𝐩𝐚𝐫𝐚𝐜𝐢𝐨́𝐧 𝐝𝐞 𝐠𝐫𝐮𝐩𝐨𝐬 𝐲 𝐛𝐚𝐬𝐭𝐚𝐧𝐭𝐞 𝐜𝐨𝐦𝐩𝐚𝐜𝐭𝐨𝐬.\n",
    "\n",
    "\n",
    "•\t𝐄𝐧 𝐠𝐞𝐧𝐞𝐫𝐚𝐥 𝐞𝐧 𝐥𝐨𝐬 𝐭𝐫𝐞𝐬 𝐢́𝐧𝐝𝐢𝐜𝐞𝐬 𝐬𝐞 𝐨𝐛𝐭𝐮𝐯𝐢𝐞𝐫𝐨𝐧 𝐛𝐮𝐞𝐧𝐨𝐬 𝐫𝐞𝐬𝐮𝐥𝐭𝐚𝐝𝐨𝐬, 𝐩𝐨𝐫 𝐞𝐧𝐝𝐞, 𝐧𝐨𝐬 𝐝𝐚𝐦𝐨𝐬 𝐜𝐮𝐞𝐧𝐭𝐚 𝐝𝐞 𝐪𝐮𝐞 𝐥𝐚 𝐬𝐞𝐩𝐚𝐫𝐚𝐜𝐢𝐨́𝐧 𝐲 𝐞𝐥 𝐚𝐠𝐫𝐮𝐩𝐚𝐦𝐢𝐞𝐧𝐭𝐨 𝐟𝐮𝐞 𝐞𝐱𝐢𝐭𝐨𝐬𝐨. 𝐌𝐨𝐬𝐭𝐫𝐚́𝐧𝐝𝐨𝐧𝐨𝐬 𝐥𝐨𝐬 𝐠𝐫𝐮𝐩𝐨𝐬 𝐪𝐮𝐞 𝐭𝐢𝐞𝐧𝐞 𝐦𝐚𝐲𝐨𝐫 𝐞𝐱𝐩𝐞𝐜𝐭𝐚𝐭𝐢𝐯𝐚 𝐞𝐧 𝐚𝐝𝐪𝐮𝐢𝐫𝐢𝐫 𝐜𝐫𝐞́𝐝𝐢𝐭𝐨 𝐞𝐧 𝐞𝐥 𝐦𝐚𝐥𝐥, 𝐜𝐨𝐧 𝐫𝐞𝐥𝐚𝐜𝐢𝐨́𝐧 𝐚 𝐞𝐝𝐚𝐝, 𝐬𝐚𝐥𝐚𝐫𝐢𝐨 𝐲 𝐜𝐫𝐞́𝐝𝐢𝐭𝐨. \n"
   ]
  },
  {
   "cell_type": "code",
   "execution_count": null,
   "id": "01b900f6-0d9d-45d2-a3ed-3bb0c971f71c",
   "metadata": {},
   "outputs": [],
   "source": []
  }
 ],
 "metadata": {
  "kernelspec": {
   "display_name": "Python 3 (ipykernel)",
   "language": "python",
   "name": "python3"
  },
  "language_info": {
   "codemirror_mode": {
    "name": "ipython",
    "version": 3
   },
   "file_extension": ".py",
   "mimetype": "text/x-python",
   "name": "python",
   "nbconvert_exporter": "python",
   "pygments_lexer": "ipython3",
   "version": "3.11.7"
  }
 },
 "nbformat": 4,
 "nbformat_minor": 5
}
