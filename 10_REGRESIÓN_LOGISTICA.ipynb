{
  "nbformat": 4,
  "nbformat_minor": 0,
  "metadata": {
    "colab": {
      "provenance": []
    },
    "kernelspec": {
      "name": "python3",
      "display_name": "Python 3"
    },
    "language_info": {
      "name": "python"
    }
  },
  "cells": [
    {
      "cell_type": "markdown",
      "source": [
        "# **CARGAR LIBRERIAS**"
      ],
      "metadata": {
        "id": "PRKOE2dDdOBg"
      }
    },
    {
      "cell_type": "code",
      "source": [
        "import pandas as pd\n",
        "from sklearn.model_selection import train_test_split\n",
        "from sklearn.linear_model import LogisticRegression\n",
        "from sklearn.preprocessing import StandardScaler\n",
        "import matplotlib.pyplot as plt\n",
        "import numpy as np"
      ],
      "metadata": {
        "id": "cbxya6kqWV58"
      },
      "execution_count": 1,
      "outputs": []
    },
    {
      "cell_type": "markdown",
      "source": [
        "**CARGAR DATOS**"
      ],
      "metadata": {
        "id": "PsI-LLn2dTod"
      }
    },
    {
      "cell_type": "code",
      "source": [
        "# Cargamos los datos\n",
        "df = pd.read_excel(\"datos-logisticos.xlsx\")\n",
        "df.head(2)"
      ],
      "metadata": {
        "id": "smmRAkHkWW6F"
      },
      "execution_count": null,
      "outputs": []
    },
    {
      "cell_type": "code",
      "source": [
        "X1 = 'Productos-Lote'\n",
        "X2 = 'Tiempo-Entrega'\n",
        "Y = 'Defectuoso'"
      ],
      "metadata": {
        "id": "FnS27F5WWXZz"
      },
      "execution_count": 3,
      "outputs": []
    },
    {
      "cell_type": "code",
      "source": [
        "import matplotlib.pyplot as plt\n",
        "import numpy as np\n",
        "X = df[[X1, X2]] \n",
        "y = df[Y]\n",
        "# Entrena el modelo con todos los datos\n",
        "model = LogisticRegression(solver='liblinear')\n",
        "model.fit(X, y)\n",
        "# Crea una malla para evaluar el modelo\n",
        "x_min, x_max = X[X1].min() - 0.5, X[X1].max() + 0.5\n",
        "y_min, y_max = X[X2].min() - 0.5, X[X2].max() + 0.5\n",
        "h = (x_max - x_min)/100\n",
        "xx, yy = np.meshgrid(np.arange(x_min, x_max, h), np.arange(y_min, y_max, h))\n",
        "# Predice en todos los puntos de la malla\n",
        "Z = model.predict(np.c_[xx.ravel(), yy.ravel()])\n",
        "Z = Z.reshape(xx.shape)\n",
        "# Crea el gráfico de dispersión de los datos\n",
        "plt.figure(figsize=(10, 6))\n",
        "plt.scatter(X[y == 0][X1], X[y == 0][X2], color='blue', label='0')\n",
        "plt.scatter(X[y == 1][X1], X[y == 1][X2], color='red', label='1')\n",
        "# Dibuja la frontera de decisión\n",
        "plt.contour(xx, yy, Z, cmap=plt.cm.Paired)\n",
        "# Etiquetas y leyenda\n",
        "plt.xlabel(X1)\n",
        "plt.ylabel(X2)\n",
        "plt.legend()\n",
        "plt.show()"
      ],
      "metadata": {
        "id": "DHH5Z-hoWw8k"
      },
      "execution_count": null,
      "outputs": []
    },
    {
      "cell_type": "code",
      "source": [
        "# Crea el escalador\n",
        "scaler = StandardScaler()\n",
        "# Ajusta el escalador a los datos y transforma tanto el entrenamiento como los datos de prueba\n",
        "X_scaled = scaler.fit_transform(X)\n",
        "# Divide tus datos en conjuntos de entrenamiento y prueba\n",
        "X_train, X_test, y_train, y_test = train_test_split(X_scaled, y, test_size=0.3, random_state=0)\n",
        "# Crea una instancia de LogisticRegression y ajústala a tus datos de entrenamiento\n",
        "model = LogisticRegression(solver='liblinear')\n",
        "model.fit(X_train, y_train)\n",
        "# Ahora puedes predecir los valores para tus datos de prueba\n",
        "y_pred = model.predict(X_test)\n",
        "# Crea una malla para evaluar el modelo\n",
        "x_min, x_max = X_scaled[:, 0].min() - 1, X_scaled[:, 0].max() + 1\n",
        "y_min, y_max = X_scaled[:, 1].min() - 1, X_scaled[:, 1].max() + 1\n",
        "h = (x_max - x_min)/100\n",
        "xx, yy = np.meshgrid(np.arange(x_min, x_max, h), np.arange(y_min, y_max, h))\n",
        "# Predice en todos los puntos de la malla\n",
        "Z = model.predict(np.c_[xx.ravel(), yy.ravel()])\n",
        "Z = Z.reshape(xx.shape)\n",
        "# Crea el gráfico de dispersión de los datos\n",
        "plt.figure(figsize=(10, 6))\n",
        "# Dibuja la frontera de decisión con colores de fondo\n",
        "plt.contourf(xx, yy, Z, cmap=plt.cm.Paired, alpha=0.5)\n",
        "plt.scatter(X_scaled[y == 0, 0], X_scaled[y == 0, 1], color='blue', label='0')\n",
        "plt.scatter(X_scaled[y == 1, 0], X_scaled[y == 1, 1], color='red', label='1')\n",
        "# Etiquetas y leyenda\n",
        "plt.xlabel(X1)\n",
        "plt.ylabel(X2)\n",
        "plt.legend()\n",
        "plt.show()"
      ],
      "metadata": {
        "id": "Td3lqDCvWE36"
      },
      "execution_count": null,
      "outputs": []
    },
    {
      "cell_type": "markdown",
      "source": [
        "# **USO DEL MODELO PARA PREDICIR**"
      ],
      "metadata": {
        "id": "zxiUgwLmlZ36"
      }
    },
    {
      "cell_type": "code",
      "source": [
        "# Definir las características de las dos variables predictoras\n",
        "Variable_x1 = 50\n",
        "Variable_x2 = 80000\n",
        "\n",
        "new_example = pd.DataFrame([[Variable_x1, Variable_x2]], columns=['Productos-Lote', 'Tiempo-Entrega'])\n",
        "# Escalar las características para que coincidan con la escala de los datos de entrenamiento\n",
        "new_example_scaled = scaler.transform(new_example)\n",
        "# Usar el modelo para hacer una predicción\n",
        "prediction = model.predict(new_example_scaled)\n",
        "# Define una frase de resultado personalizada basada en la predicción\n",
        "result_phrase = \"DEFECTUOSO\" if prediction[0] == 1 else \"NO DEFECTUOSO\"\n",
        "print(\"Un producto que este dentro de un lote de\", Variable_x1, \"unidades y dure\",Variable_x2 ,\"minutos en su entrega, es problable que estará en estado:\", result_phrase)"
      ],
      "metadata": {
        "colab": {
          "base_uri": "https://localhost:8080/"
        },
        "id": "O5Amx84koobS",
        "outputId": "ce431b1b-5770-4136-c0b7-109253c81ffc"
      },
      "execution_count": 11,
      "outputs": [
        {
          "output_type": "stream",
          "name": "stdout",
          "text": [
            "Un producto que este dentro de un lote de 50 unidades y dure 30000 minutos en su entrega, es problable que estará en estado: DEFECTUOSO\n"
          ]
        }
      ]
    }
  ]
}